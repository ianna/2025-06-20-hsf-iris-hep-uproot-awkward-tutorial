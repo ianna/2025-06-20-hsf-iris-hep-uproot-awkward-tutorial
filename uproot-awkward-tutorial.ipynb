{
 "cells": [
  {
   "cell_type": "markdown",
   "id": "4bcae8d3-559c-438d-bffe-75f7e9ce5a58",
   "metadata": {},
   "source": [
    "# Uproot and Awkward Array tutorial\n",
    "\n",
    "**June 20, 2025 at HSF/IRIS-HEP Software Basics Training at CERN**"
   ]
  },
  {
   "cell_type": "markdown",
   "id": "2d043e3b-6cfc-407c-ad20-c887928270f7",
   "metadata": {},
   "source": [
    "<br><br><br><br><br>\n",
    "\n",
    "## Z peak in PyROOT\n",
    "\n",
    "Let's start with the most straightforward way to analyze HEP data in Python: \"for\" loops in PyROOT."
   ]
  },
  {
   "cell_type": "code",
   "execution_count": null,
   "id": "69584fef-686a-4292-b574-b83d04300043",
   "metadata": {},
   "outputs": [],
   "source": [
    "import time\n",
    "import numpy as np\n",
    "import ROOT\n",
    "\n",
    "canvas = ROOT.TCanvas()"
   ]
  },
  {
   "cell_type": "code",
   "execution_count": null,
   "id": "fcc5a088-2488-4dc0-a505-94a58e5c50ab",
   "metadata": {},
   "outputs": [],
   "source": [
    "rootfile = ROOT.TFile.Open(\"data/HiggsZZ4mu.root\")\n",
    "roottree = rootfile.Get(\"Events\")"
   ]
  },
  {
   "cell_type": "code",
   "execution_count": null,
   "id": "bf54100c-9299-4055-a3e9-f904dad177bd",
   "metadata": {},
   "outputs": [],
   "source": [
    "starttime = time.time()\n",
    "\n",
    "roothist = ROOT.TH1D(\"roothist\", \"mass\", 120, 0, 120)\n",
    "\n",
    "for index, event in enumerate(roottree):\n",
    "    # cuts are \"if\" statements\n",
    "    if event.nMuon >= 2 and event.Muon_charge[0] + event.Muon_charge[1] == 0:\n",
    "        mu1_pt = event.Muon_pt[0]\n",
    "        mu2_pt = event.Muon_pt[1]\n",
    "        mu1_eta = event.Muon_eta[0]\n",
    "        mu2_eta = event.Muon_eta[1]\n",
    "        mu1_phi = event.Muon_phi[0]\n",
    "        mu2_phi = event.Muon_phi[1]\n",
    "\n",
    "        # histograms are filled in the loop\n",
    "        roothist.Fill(\n",
    "            np.sqrt(2*mu1_pt*mu2_pt*(np.cosh(mu1_eta - mu2_eta) - np.cos(mu1_phi - mu2_phi)))\n",
    "        )\n",
    "\n",
    "pyroot_time = time.time() - starttime\n",
    "print(f\"total time: {pyroot_time} sec\")"
   ]
  },
  {
   "cell_type": "code",
   "execution_count": null,
   "id": "70f7ff13-cc46-479b-9941-d92a7d6f17f8",
   "metadata": {},
   "outputs": [],
   "source": [
    "roothist.Draw()\n",
    "canvas.Draw()"
   ]
  },
  {
   "cell_type": "markdown",
   "id": "899e5555-3bc5-411b-bef7-53d71fff74e7",
   "metadata": {},
   "source": [
    "<br><br><br><br><br>\n",
    "\n",
    "## Z peak in C++ ROOT\n",
    "\n",
    "It works, but 20 seconds is a long time to wait for 1/8 million dimuons.\n",
    "\n",
    "The traditional way to speed things up is to translate it into C++."
   ]
  },
  {
   "cell_type": "code",
   "execution_count": null,
   "id": "db10d15c-3040-46d7-b364-a1d29de01829",
   "metadata": {},
   "outputs": [],
   "source": [
    "ROOT.gInterpreter.Declare('''\n",
    "void compute(TH1D& roothist, TTree& roottree) {\n",
    "    UInt_t nMuon;\n",
    "    float Muon_pt[50];\n",
    "    float Muon_eta[50];\n",
    "    float Muon_phi[50];\n",
    "    int32_t Muon_charge[50];\n",
    "\n",
    "    roottree.SetBranchStatus(\"*\", 0);\n",
    "    roottree.SetBranchStatus(\"nMuon\", 1);\n",
    "    roottree.SetBranchStatus(\"Muon_pt\", 1);\n",
    "    roottree.SetBranchStatus(\"Muon_eta\", 1);\n",
    "    roottree.SetBranchStatus(\"Muon_phi\", 1);\n",
    "    roottree.SetBranchStatus(\"Muon_charge\", 1);\n",
    "\n",
    "    roottree.SetBranchAddress(\"nMuon\", &nMuon);\n",
    "    roottree.SetBranchAddress(\"Muon_pt\", Muon_pt);\n",
    "    roottree.SetBranchAddress(\"Muon_eta\", Muon_eta);\n",
    "    roottree.SetBranchAddress(\"Muon_phi\", Muon_phi);\n",
    "    roottree.SetBranchAddress(\"Muon_charge\", Muon_charge);\n",
    "\n",
    "    for (int index = 0; index < 100000; index++) {\n",
    "        roottree.GetEntry(index);\n",
    "        if (nMuon >= 2 && Muon_charge[0] + Muon_charge[1] == 0) {\n",
    "            float mu1_pt = Muon_pt[0];\n",
    "            float mu2_pt = Muon_pt[1];\n",
    "            float mu1_eta = Muon_eta[0];\n",
    "            float mu2_eta = Muon_eta[1];\n",
    "            float mu1_phi = Muon_phi[0];\n",
    "            float mu2_phi = Muon_phi[1];\n",
    "            roothist.Fill(\n",
    "                sqrt(2*mu1_pt*mu2_pt*(cosh(mu1_eta - mu2_eta) - cos(mu1_phi - mu2_phi)))\n",
    "            );\n",
    "        }\n",
    "    }\n",
    "}\n",
    "''')"
   ]
  },
  {
   "cell_type": "markdown",
   "id": "39ff14c0-aabc-4b9b-908b-bfb09b2e1a65",
   "metadata": {},
   "source": [
    "ROOT lets you compile a C++ function and run it through PyROOT.\n",
    "\n",
    "The important thing here is that the _loop over events_ is in the compiled code."
   ]
  },
  {
   "cell_type": "code",
   "execution_count": null,
   "id": "43265ef2-14c4-4979-81d1-563ab6d7d8f4",
   "metadata": {},
   "outputs": [],
   "source": [
    "starttime = time.time()\n",
    "\n",
    "roothist2 = ROOT.TH1D(\"roothist2\", \"mass\", 120, 0, 120)\n",
    "\n",
    "ROOT.compute(roothist2, roottree)\n",
    "\n",
    "cpproot_time = time.time() - starttime\n",
    "print(f\"total time: {cpproot_time} sec\")"
   ]
  },
  {
   "cell_type": "code",
   "execution_count": null,
   "id": "d5a20bdf-3a3c-4767-85b6-26bc37ebcdea",
   "metadata": {},
   "outputs": [],
   "source": [
    "pyroot_time / cpproot_time"
   ]
  },
  {
   "cell_type": "code",
   "execution_count": null,
   "id": "2de975f3-9e2c-4f82-adfb-d2b530ae8e4a",
   "metadata": {},
   "outputs": [],
   "source": [
    "roothist2.Draw()\n",
    "canvas.Draw()"
   ]
  },
  {
   "cell_type": "markdown",
   "id": "da2f4e44-9061-49c8-9fac-70a7722cf5dd",
   "metadata": {},
   "source": [
    "<br><br><br><br><br>\n",
    "\n",
    "## Z peak in RDataFrame\n",
    "\n",
    "RDataFrame is the modern way to build workflows over HEP data in ROOT.\n",
    "\n",
    "Each node in this pipeline is compiled in C++. The pipeline itself can be built in Python.\n",
    "\n",
    "<img src=\"img/rdataframe-flow.svg\" style=\"width: 800px\">"
   ]
  },
  {
   "cell_type": "code",
   "execution_count": null,
   "id": "c66bd859-ce83-43c3-b05a-551e1d3836c3",
   "metadata": {},
   "outputs": [],
   "source": [
    "df = ROOT.RDataFrame(\"Events\", \"data/HiggsZZ4mu.root\")\n",
    "\n",
    "# Each node is connected to the previous, in a chain (which can split and recombine).\n",
    "df_2mu = df.Filter(\"nMuon >= 2\")\n",
    "df_os = df_2mu.Filter(\"Muon_charge[0] + Muon_charge[1] == 0\")\n",
    "\n",
    "# This node is a big C++ block.\n",
    "df_mass = df_os.Define(\"Dimuon_mass\", '''\n",
    "float mu1_pt = Muon_pt[0];\n",
    "float mu2_pt = Muon_pt[1];\n",
    "float mu1_eta = Muon_eta[0];\n",
    "float mu2_eta = Muon_eta[1];\n",
    "float mu1_phi = Muon_phi[0];\n",
    "float mu2_phi = Muon_phi[1];\n",
    "return sqrt(2*mu1_pt*mu2_pt*(cosh(mu1_eta - mu2_eta) - cos(mu1_phi - mu2_phi)));\n",
    "''')\n",
    "\n",
    "roothist3 = df_mass.Histo1D((\"h3\", \"mass\", 120, 0, 120), \"Dimuon_mass\")"
   ]
  },
  {
   "cell_type": "markdown",
   "id": "55a5d8e8-499b-4c06-b06b-2baddec502a5",
   "metadata": {},
   "source": [
    "The calculation doesn't actually start until you attempt to look at a result (convert to NumPy or draw a plot)."
   ]
  },
  {
   "cell_type": "code",
   "execution_count": null,
   "id": "ce89cea2-50c7-425c-ab60-75a94e027404",
   "metadata": {},
   "outputs": [],
   "source": [
    "starttime = time.time()\n",
    "\n",
    "# This one is an endpoint (action).\n",
    "array = df_mass.AsNumpy([\"Dimuon_mass\"])\n",
    "\n",
    "rdfroot_time = time.time() - starttime\n",
    "print(f\"total time: {rdfroot_time} sec\")"
   ]
  },
  {
   "cell_type": "code",
   "execution_count": null,
   "id": "2fe35303-5881-44c8-8b5e-77b1816e38e3",
   "metadata": {},
   "outputs": [],
   "source": [
    "pyroot_time / rdfroot_time"
   ]
  },
  {
   "cell_type": "code",
   "execution_count": null,
   "id": "8791d881-bcb0-4282-aae2-1155decc07eb",
   "metadata": {},
   "outputs": [],
   "source": [
    "array"
   ]
  },
  {
   "cell_type": "code",
   "execution_count": null,
   "id": "cec12ccb-f2c6-4c5a-b0b3-56158ce140f0",
   "metadata": {},
   "outputs": [],
   "source": [
    "roothist3.Draw()\n",
    "canvas.Draw()"
   ]
  },
  {
   "cell_type": "markdown",
   "id": "eb39a093-8878-44ca-b3ef-442ac3b7294f",
   "metadata": {},
   "source": [
    "<br><br><br><br><br>\n",
    "\n",
    "## Uproot and Awkward Array\n",
    "\n",
    "Uproot's approach is different: each Python command operates on a whole array at a time (like NumPy).\n",
    "\n",
    "Loops over all events happen in compiled code, but you don't write that code—you combine primitives to build a workflow."
   ]
  },
  {
   "cell_type": "code",
   "execution_count": null,
   "id": "ec394a10-cdf5-4cd7-81c1-d39841b267fb",
   "metadata": {},
   "outputs": [],
   "source": [
    "import awkward as ak\n",
    "import uproot\n",
    "import hist"
   ]
  },
  {
   "cell_type": "markdown",
   "id": "457128a9-8817-42fb-ab08-02571707a6ba",
   "metadata": {},
   "source": [
    "Open a file and look at its contents."
   ]
  },
  {
   "cell_type": "code",
   "execution_count": null,
   "id": "1075396f-916b-45a7-9b88-4a453407b16f",
   "metadata": {},
   "outputs": [],
   "source": [
    "events = uproot.open(\"data/HiggsZZ4mu.root:Events\")\n",
    "events.show()"
   ]
  },
  {
   "cell_type": "markdown",
   "id": "c8fdfbd6-f635-4f94-826b-96ddcf0767d2",
   "metadata": {},
   "source": [
    "Extract some branches as an \"array of records\" (renaming the fields)."
   ]
  },
  {
   "cell_type": "code",
   "execution_count": null,
   "id": "8c643a83-5f16-4541-8894-ca85fa07d0e4",
   "metadata": {},
   "outputs": [],
   "source": [
    "muons = events.arrays(\n",
    "    [\"pt\", \"eta\", \"phi\", \"charge\"],\n",
    "    aliases={\"pt\": \"Muon_pt\", \"eta\": \"Muon_eta\", \"phi\": \"Muon_phi\", \"charge\": \"Muon_charge\"}\n",
    ")\n",
    "muons"
   ]
  },
  {
   "cell_type": "code",
   "execution_count": null,
   "id": "c4291101-d745-4668-98dd-47c931891516",
   "metadata": {},
   "outputs": [],
   "source": [
    "muons.fields"
   ]
  },
  {
   "cell_type": "markdown",
   "id": "f6691e77-00c9-4462-9787-7ac8ad8ea8b4",
   "metadata": {},
   "source": [
    "A cut is an array of booleans, which we can construct as a formula."
   ]
  },
  {
   "cell_type": "code",
   "execution_count": null,
   "id": "4d6249f5-9814-4f38-9f74-6fb7b1b9f9c7",
   "metadata": {},
   "outputs": [],
   "source": [
    "cut = (ak.num(muons.charge) >= 2) & (ak.sum(muons.charge[:, :2], axis=1) == 0)\n",
    "cut"
   ]
  },
  {
   "cell_type": "markdown",
   "id": "d6c9a03c-7541-4cf0-bc10-885e24158048",
   "metadata": {},
   "source": [
    "Applying a cut is a slice. In the same slice, we can pick the first (`0`) and second (`1`) muon in each event."
   ]
  },
  {
   "cell_type": "code",
   "execution_count": null,
   "id": "446bd12e-56ed-4e58-8c4a-fd349f6797d4",
   "metadata": {},
   "outputs": [],
   "source": [
    "mu1 = muons[cut, 0]\n",
    "mu2 = muons[cut, 1]\n",
    "mu1, mu2"
   ]
  },
  {
   "cell_type": "markdown",
   "id": "5332e882-64bb-4570-92ab-8a8fb035d52f",
   "metadata": {},
   "source": [
    "Let's use the [hist](https://github.com/scikit-hep/hist#readme) library for histograms."
   ]
  },
  {
   "cell_type": "code",
   "execution_count": null,
   "id": "119f78f7-ccfb-49bf-a221-021b9ab88eb9",
   "metadata": {},
   "outputs": [],
   "source": [
    "h = hist.Hist.new.Reg(120, 0, 120, name=\"mass\").Double()\n",
    "h"
   ]
  },
  {
   "cell_type": "code",
   "execution_count": null,
   "id": "3ab6f7ab-7286-4f56-948f-44a2e8cfec8b",
   "metadata": {},
   "outputs": [],
   "source": [
    "h.fill(np.sqrt(2*mu1.pt*mu2.pt*(np.cosh(mu1.eta - mu2.eta) - np.cos(mu1.phi - mu2.phi))))"
   ]
  },
  {
   "cell_type": "markdown",
   "id": "6e76b5d8-46a0-4aa8-b3be-80b2a3d655f1",
   "metadata": {},
   "source": [
    "And Matplotlib for plots."
   ]
  },
  {
   "cell_type": "code",
   "execution_count": null,
   "id": "b6844c2f-8fc0-4e51-bf42-842b49be43b5",
   "metadata": {},
   "outputs": [],
   "source": [
    "import matplotlib.pyplot as plt"
   ]
  },
  {
   "cell_type": "code",
   "execution_count": null,
   "id": "03238db7-e4ba-4494-961d-f072b71507ca",
   "metadata": {},
   "outputs": [],
   "source": [
    "h.plot();"
   ]
  },
  {
   "cell_type": "markdown",
   "id": "0c38143b-b3df-4476-922e-d4e5304d46fa",
   "metadata": {},
   "source": [
    "<br><br><br><br><br>\n",
    "\n",
    "Now let's do the whole thing in one cell and time it."
   ]
  },
  {
   "cell_type": "code",
   "execution_count": null,
   "id": "2701fca4-602b-4a97-9f74-2dcd7ecc9f24",
   "metadata": {},
   "outputs": [],
   "source": [
    "starttime = time.time()\n",
    "\n",
    "# read data\n",
    "muons = events.arrays(\n",
    "    [\"pt\", \"eta\", \"phi\", \"charge\"],\n",
    "    aliases={\"pt\": \"Muon_pt\", \"eta\": \"Muon_eta\", \"phi\": \"Muon_phi\", \"charge\": \"Muon_charge\"},\n",
    "    array_cache=None,   # no cheating!\n",
    ")\n",
    "\n",
    "# compute\n",
    "cut = (ak.num(muons.charge) >= 2) & (ak.sum(muons.charge[:, :2], axis=1) == 0)\n",
    "mu1 = muons[cut, 0]\n",
    "mu2 = muons[cut, 1]\n",
    "h = hist.Hist.new.Reg(120, 0, 120, name=\"mass\").Double()\n",
    "h.fill(np.sqrt(2*mu1.pt*mu2.pt*(np.cosh(mu1.eta - mu2.eta) - np.cos(mu1.phi - mu2.phi))))\n",
    "\n",
    "uproot_time = time.time() - starttime\n",
    "print(f\"total time: {uproot_time} sec\")"
   ]
  },
  {
   "cell_type": "code",
   "execution_count": null,
   "id": "dbd4249f-637e-4f91-80d4-6f5696ea7964",
   "metadata": {},
   "outputs": [],
   "source": [
    "pyroot_time / uproot_time"
   ]
  },
  {
   "cell_type": "markdown",
   "id": "4bae101b-3e8e-43df-8c0d-fe3c4b796b7a",
   "metadata": {},
   "source": [
    "It's in the same ballpark as C++. It can be 1.5× to 2× slower, but it's much closer to C++ on a log plot than it is to Python \"for\" loops."
   ]
  },
  {
   "cell_type": "markdown",
   "id": "816289f5-b975-42cf-8bbf-02c0f226e6d9",
   "metadata": {},
   "source": [
    "<br><br><br><br><br>\n",
    "\n",
    "## The Pythonic HEP ecosystem\n",
    "\n",
    "Uproot is not a framework, it _only_ does ROOT I/O. Awkward Array handles array manipulation, hist does histograms, etc.\n",
    "\n",
    "It is part of this complete breakfast:\n",
    "\n",
    "<img src=\"img/logo-parade.svg\" width=\"800px\">"
   ]
  },
  {
   "cell_type": "markdown",
   "id": "bbc147a6-04ac-4eaa-848b-c8d59cac46e0",
   "metadata": {},
   "source": [
    "<br><br><br><br><br>\n",
    "\n",
    "## Uproot\n",
    "\n",
    "Uproot is an independent implementation of ROOT I/O that leverages standard Python libraries.\n",
    "\n",
    "<img src=\"img/abstraction-layers.svg\" width=\"800px\">"
   ]
  },
  {
   "cell_type": "markdown",
   "id": "62e90fb9-b612-4ba7-8a79-f747b8682024",
   "metadata": {},
   "source": [
    "<br><br><br><br><br>\n",
    "\n",
    "The documentation is at [https://uproot.readthedocs.io/](https://uproot.readthedocs.io/).\n",
    "\n",
    "<img src=\"img/uproot-documentation.png\" width=\"800px\"/>"
   ]
  },
  {
   "cell_type": "markdown",
   "id": "55dc1c65-a3cf-4e8d-8f4c-eef4eb6c37d6",
   "metadata": {},
   "source": [
    "<br><br><br><br><br>\n",
    "\n",
    "## Navigating a ROOT file\n",
    "\n",
    "<img src=\"img/terminology.svg\" style=\"width: 800px\">"
   ]
  },
  {
   "cell_type": "code",
   "execution_count": null,
   "id": "3896e3fd-62e4-46f2-92e3-e74936fff83a",
   "metadata": {},
   "outputs": [],
   "source": [
    "histograms = uproot.open(\"data/HiggsZZ4mu_histograms.root\")\n",
    "histograms"
   ]
  },
  {
   "cell_type": "code",
   "execution_count": null,
   "id": "505a5c1f-971a-454a-b7fd-05a87cec494f",
   "metadata": {},
   "outputs": [],
   "source": [
    "histograms.file"
   ]
  },
  {
   "cell_type": "markdown",
   "id": "27871d30-483d-478b-a541-9b0422e3b7f2",
   "metadata": {},
   "source": [
    "In Uproot, a directory is a dict-like object with subscripting (square brackets), [keys](https://uproot.readthedocs.io/en/latest/uproot.reading.ReadOnlyDirectory.html#keys), [values](https://uproot.readthedocs.io/en/latest/uproot.reading.ReadOnlyDirectory.html#values), [items](https://uproot.readthedocs.io/en/latest/uproot.reading.ReadOnlyDirectory.html#items), and [classnames](https://uproot.readthedocs.io/en/latest/uproot.reading.ReadOnlyDirectory.html#classnames) methods."
   ]
  },
  {
   "cell_type": "code",
   "execution_count": null,
   "id": "78630af0-ce2d-401b-99d9-143c5c574860",
   "metadata": {},
   "outputs": [],
   "source": [
    "histograms[\"Z\"]"
   ]
  },
  {
   "cell_type": "code",
   "execution_count": null,
   "id": "e7f95796-13c2-4248-949b-91479359eabb",
   "metadata": {},
   "outputs": [],
   "source": [
    "histograms[\"Z\"][\"4mu\"]"
   ]
  },
  {
   "cell_type": "markdown",
   "id": "e1a8a9d4-1c79-49cf-88ce-e8d9a35f26a6",
   "metadata": {},
   "source": [
    "Try `recursive`, `filter_name`, and `filter_classname` arguments."
   ]
  },
  {
   "cell_type": "code",
   "execution_count": null,
   "id": "9d8138f3-283a-43cb-9353-a11991d1ef9e",
   "metadata": {},
   "outputs": [],
   "source": [
    "histograms.keys()"
   ]
  },
  {
   "cell_type": "markdown",
   "id": "0b83c8f5-9e9f-4678-a1a0-90687794e4b2",
   "metadata": {},
   "source": [
    "Most histograms and graphs can be converted to types in other Python libraries.\n",
    "\n",
    "Try the `to_hist()` method on this one."
   ]
  },
  {
   "cell_type": "code",
   "execution_count": null,
   "id": "431706f9-61dc-4bb6-ae1e-9a12c6c3f609",
   "metadata": {},
   "outputs": [],
   "source": [
    "histograms[\"Z/all/massZto2muon\"]"
   ]
  },
  {
   "cell_type": "markdown",
   "id": "87876faa-7998-4395-b4d1-65192bac08cd",
   "metadata": {},
   "source": [
    "<br><br><br>\n",
    "\n",
    "**Three-minute exercise:** find the 2D histogram and plot it."
   ]
  },
  {
   "cell_type": "code",
   "execution_count": null,
   "id": "7d94135d-c1d4-47e6-9206-89c7300d17fb",
   "metadata": {},
   "outputs": [],
   "source": [
    "histograms"
   ]
  },
  {
   "cell_type": "markdown",
   "id": "743d3385-58e7-4f41-a7f7-5618ac027ea3",
   "metadata": {},
   "source": [
    "<br><br><br><br><br>\n",
    "\n",
    "## Can Uproot read my data?\n",
    "\n",
    "<img src=\"img/can-uproot-read-it.svg\" width=\"500px\"/>"
   ]
  },
  {
   "cell_type": "markdown",
   "id": "e22903b5-c5b3-4b48-b4f1-dfd0dbaa8d00",
   "metadata": {},
   "source": [
    "Here is a file with analysis-specific classes; Uproot _cannot_ have prior knowledge of these classes."
   ]
  },
  {
   "cell_type": "code",
   "execution_count": null,
   "id": "61cf7763-2915-49b3-bd6d-c01fa1d68b25",
   "metadata": {},
   "outputs": [],
   "source": [
    "icecube = uproot.open(\"data/icecube-supernovae.root\")\n",
    "icecube.keys()"
   ]
  },
  {
   "cell_type": "code",
   "execution_count": null,
   "id": "1be6bf8d-c4e5-4cee-ad97-467589775a91",
   "metadata": {},
   "outputs": [],
   "source": [
    "icecube.classname_of(\"config/detector\")"
   ]
  },
  {
   "cell_type": "markdown",
   "id": "b841e06b-d16d-4546-bc1f-4b1bab0cb6b5",
   "metadata": {},
   "source": [
    "It is possible to read an `I3Eval_t` object because ROOT stores the \"how to read\" instructions in the file (called \"streamers\")."
   ]
  },
  {
   "cell_type": "code",
   "execution_count": null,
   "id": "fe251213-5296-4823-bbc4-ed32bfa7cc2b",
   "metadata": {},
   "outputs": [],
   "source": [
    "icecube.file.show_streamers(\"I3Eval_t\")"
   ]
  },
  {
   "cell_type": "code",
   "execution_count": null,
   "id": "59081442-001a-4661-b995-d338709c792c",
   "metadata": {},
   "outputs": [],
   "source": [
    "icecube[\"config/detector\"]"
   ]
  },
  {
   "cell_type": "code",
   "execution_count": null,
   "id": "3304566b-4f6f-4564-ab72-d9d90487545f",
   "metadata": {},
   "outputs": [],
   "source": [
    "icecube[\"config/detector\"].all_members"
   ]
  },
  {
   "cell_type": "code",
   "execution_count": null,
   "id": "53b7327b-7d84-461d-9e4d-07df009f9b5e",
   "metadata": {},
   "outputs": [],
   "source": [
    "icecube[\"config/detector\"].member(\"ChannelIDMap\")"
   ]
  },
  {
   "cell_type": "markdown",
   "id": "22919f2a-6287-4698-9635-e5a342683a20",
   "metadata": {},
   "source": [
    "Unlike histograms, these objects have no methods to help you unpack the data; it's all in [members](https://uproot.readthedocs.io/en/latest/uproot.model.Model.html#members), [all_members](https://uproot.readthedocs.io/en/latest/uproot.model.Model.html#all-members), [has_member](https://uproot.readthedocs.io/en/latest/uproot.model.Model.html#has-member), and [member](https://uproot.readthedocs.io/en/latest/uproot.model.Model.html#member)."
   ]
  },
  {
   "cell_type": "markdown",
   "id": "f859f59c-9d13-4db2-b65c-cb56b0b649da",
   "metadata": {},
   "source": [
    "<br><br><br><br><br>\n",
    "\n",
    "## Navigating TTrees"
   ]
  },
  {
   "cell_type": "code",
   "execution_count": null,
   "id": "c5fee4df-e1e5-4c6e-9db5-13973f071762",
   "metadata": {},
   "outputs": [],
   "source": [
    "zmumu_file = uproot.open(\"data/Zmumu.root\")\n",
    "zmumu_file.classnames()"
   ]
  },
  {
   "cell_type": "markdown",
   "id": "43448510-9169-4b72-aaf9-9a8ed48e9b8b",
   "metadata": {},
   "source": [
    "Often, the best thing to do first with an unfamiliar TTree is [show](https://uproot.readthedocs.io/en/latest/uproot.behaviors.TTree.TTree.html#show)."
   ]
  },
  {
   "cell_type": "code",
   "execution_count": null,
   "id": "a8d0d736-f63d-4ef0-957b-c1d950ea7424",
   "metadata": {},
   "outputs": [],
   "source": [
    "zmumu = zmumu_file[\"events\"]\n",
    "zmumu.show()"
   ]
  },
  {
   "cell_type": "markdown",
   "id": "2a3df634-56a1-4804-986f-f6032ce7a995",
   "metadata": {},
   "source": [
    "Keep in mind that\n",
    "\n",
    "   * TTrees are dict-like objects with subscripting (square brackets), [keys](https://uproot.readthedocs.io/en/latest/uproot.behaviors.TTree.TTree.html#keys), [values](https://uproot.readthedocs.io/en/latest/uproot.behaviors.TTree.TTree.html#values), [items](https://uproot.readthedocs.io/en/latest/uproot.behaviors.TTree.TTree.html#items), and [typenames](https://uproot.readthedocs.io/en/latest/uproot.behaviors.TTree.TTree.html#typenames) methods (like directories)\n",
    "   * you can access all of the above data with methods: you don't have to parse the [show](https://uproot.readthedocs.io/en/latest/uproot.behaviors.TTree.TTree.html#show) string!"
   ]
  },
  {
   "cell_type": "code",
   "execution_count": null,
   "id": "6cd887be-e622-425f-96f6-43e60c32a893",
   "metadata": {},
   "outputs": [],
   "source": [
    "zmumu.keys()"
   ]
  },
  {
   "cell_type": "code",
   "execution_count": null,
   "id": "8be42444-d5fb-41ba-a128-fe336343424c",
   "metadata": {},
   "outputs": [],
   "source": [
    "zmumu.typenames()"
   ]
  },
  {
   "cell_type": "code",
   "execution_count": null,
   "id": "a4bfcef4-94f0-433c-aea6-d405f94636b6",
   "metadata": {},
   "outputs": [],
   "source": [
    "{name: branch.interpretation for name, branch in zmumu.items()}"
   ]
  },
  {
   "cell_type": "markdown",
   "id": "ce32e54b-f7aa-4ddf-9be8-5a75aabe60f4",
   "metadata": {},
   "source": [
    "<br><br><br><br><br>\n",
    "\n",
    "## Reading TBranches into arrays\n",
    "\n",
    "The basic method is to get a TBranch (with square brackets) and call [array](https://uproot.readthedocs.io/en/latest/uproot.behaviors.TBranch.TBranch.html#array)."
   ]
  },
  {
   "cell_type": "code",
   "execution_count": null,
   "id": "d7d915ad-6a25-4585-87a5-7afe9a49a100",
   "metadata": {},
   "outputs": [],
   "source": [
    "zmumu[\"M\"].array()"
   ]
  },
  {
   "cell_type": "markdown",
   "id": "325cbb3e-c108-4d8e-b2c6-0211160e68d3",
   "metadata": {},
   "source": [
    "Some important parameters:\n",
    "\n",
    "   * `entry_start`, `entry_stop` to limit how much you read (if it's big)\n",
    "   * `library=\"np\"` for NumPy arrays, `library=\"ak\"` for Awkward Arrays, and `library=\"pd\"` for Pandas (Series or DataFrame)"
   ]
  },
  {
   "cell_type": "code",
   "execution_count": null,
   "id": "ccd6ef30-d431-4a45-be43-2b3698a7a86e",
   "metadata": {},
   "outputs": [],
   "source": [
    "zmumu[\"M\"].array(entry_stop=5)"
   ]
  },
  {
   "cell_type": "markdown",
   "id": "09acbd28-a5ba-4d71-93cb-40122a337310",
   "metadata": {},
   "source": [
    "Get a NumPy (not Awkward) array:"
   ]
  },
  {
   "cell_type": "code",
   "execution_count": null,
   "id": "59f56180-6477-43d6-8216-69fa396d2312",
   "metadata": {},
   "outputs": [],
   "source": [
    "zmumu[\"M\"].array(library=\"np\")"
   ]
  },
  {
   "cell_type": "markdown",
   "id": "793ad29e-dd8a-4ca8-9656-858494e980de",
   "metadata": {},
   "source": [
    "Get a Pandas Series:"
   ]
  },
  {
   "cell_type": "code",
   "execution_count": null,
   "id": "31c8a24c-e187-4ef9-836e-714afa3c457d",
   "metadata": {},
   "outputs": [],
   "source": [
    "zmumu[\"M\"].array(library=\"pd\")"
   ]
  },
  {
   "cell_type": "markdown",
   "id": "78273259-8179-4256-baa0-6cee05237864",
   "metadata": {},
   "source": [
    "<br><br><br><br><br>\n",
    "\n",
    "## Reading many arrays at once\n",
    "\n",
    "The [arrays](https://uproot.readthedocs.io/en/latest/uproot.behaviors.TBranch.HasBranches.html#arrays) method retrieves many TBranches into a \"group\" of arrays.\n",
    "\n",
    "What a \"group\" means depends on the library.\n",
    "\n",
    "Awkward Arrays group data in records (substructure within the array)."
   ]
  },
  {
   "cell_type": "code",
   "execution_count": null,
   "id": "e4a46344-1940-4ab9-8fcc-ad2c5120a319",
   "metadata": {},
   "outputs": [],
   "source": [
    "zmumu.arrays()"
   ]
  },
  {
   "cell_type": "markdown",
   "id": "ee9ffc84-dfe3-4246-aefb-6c6c4f0438ea",
   "metadata": {},
   "source": [
    "A \"group\" of NumPy arrays is a dict (unless you specify `how`):"
   ]
  },
  {
   "cell_type": "code",
   "execution_count": null,
   "id": "0fc308b4-ba85-47e3-acb3-eadbf0e76892",
   "metadata": {},
   "outputs": [],
   "source": [
    "zmumu.arrays(library=\"np\")"
   ]
  },
  {
   "cell_type": "markdown",
   "id": "fb3553d4-012c-43e4-bfb8-52deabbfdf2f",
   "metadata": {},
   "source": [
    "A \"group\" of Pandas Series is a DataFrame:"
   ]
  },
  {
   "cell_type": "code",
   "execution_count": null,
   "id": "c482b7a0-0de4-48b5-9e29-7a3667020df8",
   "metadata": {},
   "outputs": [],
   "source": [
    "zmumu.arrays(library=\"pd\")"
   ]
  },
  {
   "cell_type": "markdown",
   "id": "ce281f06-ecd1-4a34-bf20-e22923af42f4",
   "metadata": {},
   "source": [
    "The first argument can be used to extract TBranches by name:"
   ]
  },
  {
   "cell_type": "code",
   "execution_count": null,
   "id": "b7e404bb-2b24-4981-9935-9af2d7c2fc5d",
   "metadata": {},
   "outputs": [],
   "source": [
    "zmumu.arrays([\"px1\", \"py1\", \"px2\", \"py2\"], library=\"pd\")"
   ]
  },
  {
   "cell_type": "markdown",
   "id": "1f9fa768-c6a2-46e0-b942-dc07f1434e23",
   "metadata": {},
   "source": [
    "But this argument actually takes arbitrary (Python) expressions."
   ]
  },
  {
   "cell_type": "code",
   "execution_count": null,
   "id": "2cb82ff5-8321-4419-8045-0e4dd373818c",
   "metadata": {},
   "outputs": [],
   "source": [
    "zmumu.arrays([\"sqrt(px1**2 + py1**2)\", \"sqrt(px2**2 + py2**2)\"], library=\"pd\")"
   ]
  },
  {
   "cell_type": "markdown",
   "id": "1a0a7926-e289-4c3e-b930-653513745411",
   "metadata": {},
   "source": [
    "This is to support any [aliases](https://uproot.readthedocs.io/en/latest/uproot.behaviors.TTree.TTree.html#aliases) that might be in the [TTree](https://uproot.readthedocs.io/en/latest/uproot.behaviors.TTree.TTree.html), but you can make up your own `aliases` on the spot."
   ]
  },
  {
   "cell_type": "code",
   "execution_count": null,
   "id": "db41b97d-4e2c-4c06-9466-6002a4dec852",
   "metadata": {},
   "outputs": [],
   "source": [
    "zmumu.arrays(\n",
    "    [\"pt1\", \"pt2\"],\n",
    "    {\"pt1\": \"sqrt(px1**2 + py1**2)\", \"pt2\": \"sqrt(px2**2 + py2**2)\"},\n",
    "    library=\"pd\",\n",
    ")"
   ]
  },
  {
   "cell_type": "markdown",
   "id": "d7991201-316c-42ea-a8ca-a2f402b35cf4",
   "metadata": {},
   "source": [
    "The fact that these are interpreted as expressions has some \"gotchas\":\n",
    "\n",
    "   * nested branches, paths with \"`/`\", _would be interpreted as division!_\n",
    "   * wildcards, paths with \"`*`\", _would be interpreted as multiplication!_\n",
    "\n",
    "For pattern-matching on TBranches, use the `filter_name`, `filter_typename`, and `filter_branch` arguments of [arrays](https://uproot.readthedocs.io/en/latest/uproot.behaviors.TBranch.HasBranches.html#arrays)."
   ]
  },
  {
   "cell_type": "code",
   "execution_count": null,
   "id": "d7b358b3-e145-4f2d-b2af-469dc99fcaf4",
   "metadata": {},
   "outputs": [],
   "source": [
    "zmumu.arrays(filter_name=\"p[xyz]*\", library=\"pd\")"
   ]
  },
  {
   "cell_type": "markdown",
   "id": "fc07273c-d8ee-4623-86b5-79a8413353ec",
   "metadata": {},
   "source": [
    "These filters have the same meaning as in [keys](https://uproot.readthedocs.io/en/latest/uproot.behaviors.TBranch.HasBranches.html#keys) and [typenames](https://uproot.readthedocs.io/en/latest/uproot.behaviors.TBranch.HasBranches.html#typenames), so you can test your filters without reading data."
   ]
  },
  {
   "cell_type": "code",
   "execution_count": null,
   "id": "f2f451f2-0820-4271-a4d4-46ce8ada0f47",
   "metadata": {},
   "outputs": [],
   "source": [
    "zmumu.keys(filter_name=\"p[xyz]*\")"
   ]
  },
  {
   "cell_type": "code",
   "execution_count": null,
   "id": "95c299dc-9b50-4547-9d17-c1b5151c1393",
   "metadata": {},
   "outputs": [],
   "source": [
    "zmumu.typenames(filter_name=\"p[xyz]*\")"
   ]
  },
  {
   "cell_type": "markdown",
   "id": "da6e82bc-bc61-4382-8e0f-7131166545f4",
   "metadata": {},
   "source": [
    "<br><br><br>\n",
    "\n",
    "### Get arrays in manageable chunks\n",
    "\n",
    "The [iterate](https://uproot.readthedocs.io/en/latest/uproot.behaviors.TBranch.HasBranches.html#iterate) method is like [arrays](https://uproot.readthedocs.io/en/latest/uproot.behaviors.TBranch.HasBranches.html#arrays), but it can be used in a loop over chunks of the array.\n",
    "\n",
    "How large are the chunks? You should set that with `step_size`."
   ]
  },
  {
   "cell_type": "code",
   "execution_count": null,
   "id": "e7d1a3e3-f486-484b-a9ea-70864367228a",
   "metadata": {},
   "outputs": [],
   "source": [
    "for arrays in zmumu.iterate(step_size=300):\n",
    "    print(repr(arrays))"
   ]
  },
  {
   "cell_type": "code",
   "execution_count": null,
   "id": "0cf2e7a6-f49f-4b5c-ae1f-b69d80cdc1d7",
   "metadata": {},
   "outputs": [],
   "source": [
    "for arrays in zmumu.iterate(step_size=\"50 kB\"):   # 50 kB is very small! for illustrative purposes only!\n",
    "    print(repr(arrays))"
   ]
  },
  {
   "cell_type": "markdown",
   "id": "a6c0a371-8862-40f2-9e99-3e2630681f86",
   "metadata": {},
   "source": [
    "<br><br><br>\n",
    "\n",
    "### Collections of files (like TChain)\n",
    "\n",
    "Each of the single-TTree array-reading methods has a corresponding multi-file function.\n",
    "\n",
    "   * The equivalent of TTree [arrays](https://uproot.readthedocs.io/en/latest/uproot.behaviors.TTree.TTree.html#arrays) is [uproot.concatenate](https://uproot.readthedocs.io/en/latest/uproot.behaviors.TBranch.concatenate.html). _(Reads everything at once: use this as a convenience on datasets you know are small!)_\n",
    "   * The equivalent of TTree [iterate](https://uproot.readthedocs.io/en/latest/uproot.behaviors.TTree.TTree.html#iterate) is [uproot.iterate](https://uproot.readthedocs.io/en/latest/uproot.behaviors.TBranch.iterate.html). _(This is the most useful one.)_\n",
    "   * There's also an [uproot.lazy](https://uproot.readthedocs.io/en/latest/uproot.behaviors.TBranch.lazy.html) _(More on this below.)_\n",
    "\n",
    "Demo of scanning through a large (remote) file:"
   ]
  },
  {
   "cell_type": "code",
   "execution_count": null,
   "id": "dc4d9b14-fc1b-4128-869b-a3ccfd58e03f",
   "metadata": {},
   "outputs": [],
   "source": [
    "import IPython\n",
    "import matplotlib.pyplot as plt\n",
    "import matplotlib.pylab"
   ]
  },
  {
   "cell_type": "code",
   "execution_count": null,
   "id": "59daf877-4522-4eb3-aae3-d44d99bb1982",
   "metadata": {},
   "outputs": [],
   "source": [
    "h = hist.Hist.new.Reg(100, 0, 500, name=\"mass\").Double()\n",
    "\n",
    "for muons in uproot.iterate(\n",
    "    # filename(s)\n",
    "    [\"root://eospublic.cern.ch//eos/opendata/cms/derived-data/AOD2NanoAODOutreachTool/Run2012BC_DoubleMuParked_Muons.root:Events\"],\n",
    "\n",
    "    # expressions\n",
    "    [\"pt\", \"eta\", \"phi\", \"charge\"],\n",
    "    aliases={\"pt\": \"Muon_pt\", \"eta\": \"Muon_eta\", \"phi\": \"Muon_phi\", \"charge\": \"Muon_charge\"},    \n",
    "\n",
    "    # the all-important step_size!\n",
    "    step_size=\"1 MB\",\n",
    "):\n",
    "    # do everything you're going to do to this array\n",
    "    cut = (ak.num(muons.charge) >= 2) & (ak.sum(muons.charge[:, :2], axis=1) == 0)\n",
    "    mu1 = muons[cut, 0]\n",
    "    mu2 = muons[cut, 1]\n",
    "\n",
    "    # such as filling a histogram\n",
    "    h.fill(np.sqrt(2*mu1.pt*mu2.pt*(np.cosh(mu1.eta - mu2.eta) - np.cos(mu1.phi - mu2.phi))))\n",
    "\n",
    "    h.plot()\n",
    "    plt.yscale(\"log\")\n",
    "    IPython.display.display(matplotlib.pylab.gcf())\n",
    "    IPython.display.clear_output(wait=True)\n",
    "\n",
    "    if h.counts().sum() > 300000:\n",
    "        break"
   ]
  },
  {
   "cell_type": "markdown",
   "id": "5b8718ec-b4bd-44c5-b669-c251fa859315",
   "metadata": {},
   "source": [
    "<br><br><br><br><br>\n",
    "\n",
    "Lazy reading is like iterative reading, but it fetches the data only when needed."
   ]
  },
  {
   "cell_type": "code",
   "execution_count": null,
   "id": "02204f0c-ca82-4ae9-b1a1-3bb3f10ddaf2",
   "metadata": {},
   "outputs": [],
   "source": [
    "lazy = uproot.lazy(\n",
    "    # filename(s)\n",
    "    [\"root://eospublic.cern.ch//eos/opendata/cms/derived-data/AOD2NanoAODOutreachTool/Run2012BC_DoubleMuParked_Muons.root:Events\"],\n",
    "    # step_size is still important\n",
    "    step_size=\"1 MB\",\n",
    ")\n",
    "lazy"
   ]
  },
  {
   "cell_type": "code",
   "execution_count": null,
   "id": "73727a59-ae09-4295-97d8-dd7c45b1a57a",
   "metadata": {},
   "outputs": [],
   "source": [
    "lazy.Muon_pt"
   ]
  },
  {
   "cell_type": "code",
   "execution_count": null,
   "id": "3d0feb4a-cd24-43f1-ab42-b76d1c4b585a",
   "metadata": {},
   "outputs": [],
   "source": [
    "lazy.Muon_eta"
   ]
  },
  {
   "cell_type": "markdown",
   "id": "50d9d90a-347c-4d72-b2d5-6754e4fa0523",
   "metadata": {},
   "source": [
    "**Important:** this is not the most efficient way to iterate through a file when you _know_ which TBranches you want to read.\n",
    "\n",
    "It exists for interactive exploration."
   ]
  },
  {
   "cell_type": "markdown",
   "id": "74f5b9f9-2ee7-41b0-aeda-63db9a45347f",
   "metadata": {},
   "source": [
    "<br><br><br><br><br>\n",
    "\n",
    "## What if the data are not one-dimensional or rectilinear arrays?"
   ]
  },
  {
   "cell_type": "markdown",
   "id": "858929f4-b922-4b79-b0e2-0c890b7d0108",
   "metadata": {},
   "source": [
    "Consider this ROOT file (simulation used in the Higgs discovery, converted to NanoAOD)."
   ]
  },
  {
   "cell_type": "code",
   "execution_count": null,
   "id": "6b59920c-aa73-4cdb-9136-d2d4db31fa5f",
   "metadata": {},
   "outputs": [],
   "source": [
    "events = uproot.open(\"data/HiggsZZ4mu.root:Events\")"
   ]
  },
  {
   "cell_type": "markdown",
   "id": "803ee7d9-a8fe-450e-ab09-375bf819b398",
   "metadata": {},
   "source": [
    "Some data, such as missing energy (MET), consist of a single value per collision event and can be represented by normal NumPy arrays."
   ]
  },
  {
   "cell_type": "code",
   "execution_count": null,
   "id": "d10fad35-704b-4600-818e-e87a3ccf3f27",
   "metadata": {},
   "outputs": [],
   "source": [
    "nonjagged = events[\"MET_pt\"].array(entry_stop=20, library=\"np\")\n",
    "nonjagged"
   ]
  },
  {
   "cell_type": "markdown",
   "id": "b1862589-aea9-4cb6-8fb2-e1ad0f24d4f0",
   "metadata": {},
   "source": [
    "Normal NumPy slicing rules apply."
   ]
  },
  {
   "cell_type": "code",
   "execution_count": null,
   "id": "16c5b01a-11b1-405a-89e9-259982271cab",
   "metadata": {},
   "outputs": [],
   "source": [
    "nonjagged[:5]"
   ]
  },
  {
   "cell_type": "markdown",
   "id": "05ce9838-3980-4a97-ab57-4324bba07231",
   "metadata": {},
   "source": [
    "<br><br><br><br><br>\n",
    "\n",
    "Some data cannot. There's a different number of muons in each event, so we need variable-length nested lists to represent their transverse momenta ($p_T$)."
   ]
  },
  {
   "cell_type": "code",
   "execution_count": null,
   "id": "440f27b4-5e69-426b-8ea7-8971bdf05eec",
   "metadata": {},
   "outputs": [],
   "source": [
    "jagged_awkward = events[\"Muon_pt\"].array(entry_stop=20)\n",
    "jagged_awkward"
   ]
  },
  {
   "cell_type": "code",
   "execution_count": null,
   "id": "63f973de-01f6-4913-9c5e-2ff20d513a60",
   "metadata": {},
   "outputs": [],
   "source": [
    "jagged_awkward.tolist()"
   ]
  },
  {
   "cell_type": "markdown",
   "id": "0e963d0a-523a-46e3-bac4-dbf2c151a0f9",
   "metadata": {},
   "source": [
    "It is _possible_ to read these data into NumPy, but with a considerable cost."
   ]
  },
  {
   "cell_type": "code",
   "execution_count": null,
   "id": "e435a3f0-3a0a-4d60-9080-e8e6fe53a8cf",
   "metadata": {},
   "outputs": [],
   "source": [
    "jagged_numpy = events[\"Muon_pt\"].array(entry_stop=20, library=\"np\")\n",
    "jagged_numpy"
   ]
  },
  {
   "cell_type": "markdown",
   "id": "a3853472-f5fa-469a-9130-ed54b2763464",
   "metadata": {},
   "source": [
    "This is an _array of NumPy arrays_ (because you can put Python objects in NumPy arrays—not recommended).\n",
    "\n",
    "You might want to consider the inner arrays to be a second dimension and use normal slicing rules:"
   ]
  },
  {
   "cell_type": "code",
   "execution_count": null,
   "id": "f04f28e2-f987-489f-bbc8-071167ec88e6",
   "metadata": {},
   "outputs": [],
   "source": [
    "jagged_awkward[:, :1]"
   ]
  },
  {
   "cell_type": "code",
   "execution_count": null,
   "id": "daeac4b6-a189-4e2c-b809-3e7249c2b1c7",
   "metadata": {
    "tags": [
     "raises-exception"
    ]
   },
   "outputs": [],
   "source": [
    "jagged_numpy[:, :1]"
   ]
  },
  {
   "cell_type": "markdown",
   "id": "1e593a6e-43e8-4bd1-9435-e7f13889cd9a",
   "metadata": {},
   "source": [
    "In NumPy, you can't. NumPy doesn't know that all the contents of this array are arrays of the same type.\n",
    "\n",
    "You know this and can write a loop in Python:"
   ]
  },
  {
   "cell_type": "code",
   "execution_count": null,
   "id": "49163b25-4bf9-4a90-a15b-617a76e7e1db",
   "metadata": {},
   "outputs": [],
   "source": [
    "np.array([x[:1] for x in jagged_numpy], dtype=object)"
   ]
  },
  {
   "cell_type": "markdown",
   "id": "403e7c69-8efa-4ede-8d64-0c9d9b13e268",
   "metadata": {},
   "source": [
    "But this isn't recommended. It's non-idiomatic and slow."
   ]
  },
  {
   "cell_type": "markdown",
   "id": "80b04acb-40b9-4998-86f0-5c168939c11f",
   "metadata": {},
   "source": [
    "<br><br><br><br><br>\n",
    "\n",
    "Pandas can work with this \"jagged\" data through indexing."
   ]
  },
  {
   "cell_type": "code",
   "execution_count": null,
   "id": "79c9af08-fa93-4285-8ae5-db1a30537a7c",
   "metadata": {},
   "outputs": [],
   "source": [
    "events.arrays(filter_name=[\"Muon_*\"], library=\"pd\")"
   ]
  },
  {
   "cell_type": "markdown",
   "id": "ba9ccaa6-eb61-419f-8d05-b1ce08941b29",
   "metadata": {},
   "source": [
    "But there are limitations. Try loading non-muon branches in the same DataFrame."
   ]
  },
  {
   "cell_type": "markdown",
   "id": "87cf48ab-f5c1-40ac-9bff-f015a8a370c2",
   "metadata": {},
   "source": [
    "<br><br><br><br><br>\n",
    "\n",
    "## Awkward Array\n",
    "\n",
    "Awkward Array is a library for manipulating JSON-like data using NumPy-like idioms.\n",
    "\n",
    "<img src=\"img/cartoon-schematic.svg\" width=\"800px\"/>"
   ]
  },
  {
   "cell_type": "markdown",
   "id": "40df91e3-21ea-4885-85c3-37055c9b3fd8",
   "metadata": {},
   "source": [
    "<br><br><br><br><br>\n",
    "\n",
    "The documentation is at [https://awkward-array.org/](https://awkward-array.org/).\n",
    "\n",
    "<img src=\"img/awkward-documentation.png\" width=\"800px\"/>"
   ]
  },
  {
   "cell_type": "markdown",
   "id": "e6d6686a-6a1b-42d1-98d1-4dcbbcc1965e",
   "metadata": {},
   "source": [
    "<br><br><br><br><br>\n",
    "\n",
    "Consider this Parquet file of the same dataset. It can be read into an Awkward Array, just like the ROOT file."
   ]
  },
  {
   "cell_type": "code",
   "execution_count": null,
   "id": "fe6ce5de-bf56-4f36-b352-1be4bd15e3c4",
   "metadata": {},
   "outputs": [],
   "source": [
    "array = ak.from_parquet(\"data/HiggsZZ4mu.parquet\")\n",
    "array"
   ]
  },
  {
   "cell_type": "code",
   "execution_count": null,
   "id": "76798c8a-b854-4d81-a0a4-d699dffa3324",
   "metadata": {},
   "outputs": [],
   "source": [
    "array.fields"
   ]
  },
  {
   "cell_type": "code",
   "execution_count": null,
   "id": "a9f75ce9-ec37-48a7-bbab-63ab4977e7ba",
   "metadata": {},
   "outputs": [],
   "source": [
    "array[0].tolist()"
   ]
  },
  {
   "cell_type": "code",
   "execution_count": null,
   "id": "d0ec043f-2c74-4aa3-8b62-2fcf9593c39e",
   "metadata": {},
   "outputs": [],
   "source": [
    "array.muons.pt"
   ]
  },
  {
   "cell_type": "markdown",
   "id": "4c3aef62-0871-465c-af65-473b63802f98",
   "metadata": {},
   "source": [
    "<br><br><br><br><br>\n",
    "\n",
    "I've restructured it a little (\"NanoEvents-style\" vs \"NanoAOD-style\"), but we can easily make the data from ROOT look just like the data from Parquet."
   ]
  },
  {
   "cell_type": "code",
   "execution_count": null,
   "id": "2401365f-8144-447d-917c-7644685d8c8a",
   "metadata": {},
   "outputs": [],
   "source": [
    "nanoaod_style = events.arrays(filter_name=\"Muon_*\")\n",
    "nanoaod_style.type"
   ]
  },
  {
   "cell_type": "code",
   "execution_count": null,
   "id": "76fbc056-82c0-4afc-b256-6ac1ec327f24",
   "metadata": {},
   "outputs": [],
   "source": [
    "array.muons.type"
   ]
  },
  {
   "cell_type": "code",
   "execution_count": null,
   "id": "4fbc1b2d-92b6-4ef1-8e83-aa9d7e8be577",
   "metadata": {},
   "outputs": [],
   "source": [
    "nanoevents_style = ak.zip({\n",
    "    \"pt\": nanoaod_style.Muon_pt,\n",
    "    \"eta\": nanoaod_style.Muon_eta,\n",
    "    \"phi\": nanoaod_style.Muon_phi,\n",
    "    \"mass\": nanoaod_style.Muon_mass,\n",
    "    \"charge\": nanoaod_style.Muon_charge,\n",
    "})\n",
    "nanoevents_style.type"
   ]
  },
  {
   "cell_type": "markdown",
   "id": "b495fc51-d3ee-4213-ad83-1113a34a7586",
   "metadata": {},
   "source": [
    "<br><br><br><br><br>\n",
    "\n",
    "In general, Awkward Array data types \"`T`\" can be:\n",
    "\n",
    "   * numbers, booleans, date-times, etc.\n",
    "   * variable-length and fixed-length lists of `T`\n",
    "   * records with named or unnamed (tuple) fields of type `T1`, `T2`, ...\n",
    "   * missing values: `T` _or_ `None`\n",
    "   * heterogeneous types: `T1` _or_ `T2` _or_ ..."
   ]
  },
  {
   "cell_type": "markdown",
   "id": "973398e2-38c4-49a8-8360-8d26c635954a",
   "metadata": {},
   "source": [
    "<br><br><br><br><br>\n",
    "\n",
    "## Changing structure\n",
    "\n",
    "Although the `tolist()` form of the data looks like JSON objects, the data are actually in a very fluid \"columnar\" form.\n",
    "\n",
    "You can, for instance, turn an array from entry-per-event into entry-per-lumiblock by increasing the nesting by one.\n",
    "\n",
    "<img src=\"img/events-to-lumis.svg\" width=\"800px\"/>"
   ]
  },
  {
   "cell_type": "code",
   "execution_count": null,
   "id": "56a4ff8c-5bfa-4da5-be0f-2538c3de79e7",
   "metadata": {},
   "outputs": [],
   "source": [
    "array.luminosityBlock"
   ]
  },
  {
   "cell_type": "code",
   "execution_count": null,
   "id": "ff3e9861-5b1d-4390-b46e-5181ffe8f64d",
   "metadata": {},
   "outputs": [],
   "source": [
    "lumilengths = ak.run_lengths(array.luminosityBlock)\n",
    "lumilengths"
   ]
  },
  {
   "cell_type": "code",
   "execution_count": null,
   "id": "413b261a-564a-408f-a5e4-a6ec661c64f6",
   "metadata": {},
   "outputs": [],
   "source": [
    "array_by_lumi = ak.unflatten(array, lumilengths, axis=0)\n",
    "array_by_lumi"
   ]
  },
  {
   "cell_type": "markdown",
   "id": "2b8bfdd0-186b-4a0e-a965-4814c61ff340",
   "metadata": {},
   "source": [
    "This is an array of lists (luminosity blocks) of records (collision events) containing lists of records (muons, generator-level particles, etc.)."
   ]
  },
  {
   "cell_type": "code",
   "execution_count": null,
   "id": "25b5a42e-dbdf-480e-a092-0818464193e7",
   "metadata": {},
   "outputs": [],
   "source": [
    "array_by_lumi.luminosityBlock[0]"
   ]
  },
  {
   "cell_type": "code",
   "execution_count": null,
   "id": "e60e1eb8-3477-4729-9138-80c1ce8e3f1f",
   "metadata": {},
   "outputs": [],
   "source": [
    "array.type"
   ]
  },
  {
   "cell_type": "code",
   "execution_count": null,
   "id": "3d1b5696-bb29-470c-8b56-d638ee3dfdb5",
   "metadata": {},
   "outputs": [],
   "source": [
    "array_by_lumi.type"
   ]
  },
  {
   "cell_type": "markdown",
   "id": "3fd95230-8ad8-46c4-baac-b748d7814440",
   "metadata": {},
   "source": [
    "So, for example, you can add up $p_T$ values along any of three dimensions."
   ]
  },
  {
   "cell_type": "code",
   "execution_count": null,
   "id": "b307152d-4180-4131-b823-54e1b8ec917a",
   "metadata": {},
   "outputs": [],
   "source": [
    "ak.sum(array_by_lumi.muons.pt, axis=-1)"
   ]
  },
  {
   "cell_type": "markdown",
   "id": "3de6d30b-c76d-44ca-88b6-42a38308730b",
   "metadata": {},
   "source": [
    "Summing (or \"reducing\" in general) is well-defined for irregular data shapes, depending on a choice of alignment. We left-align.\n",
    "\n",
    "<img src=\"img/example-reduction.svg\" style=\"width: 800px\">"
   ]
  },
  {
   "cell_type": "markdown",
   "id": "39f193a6-bec6-4794-84f2-192a300b625e",
   "metadata": {},
   "source": [
    "<br><br><br><br><br>\n",
    "\n",
    "## Practical analysis\n",
    "\n",
    "To get beyond theory, let's do some realistic things with the data."
   ]
  },
  {
   "cell_type": "code",
   "execution_count": null,
   "id": "271826a6-6715-47d1-ae38-b5e52e16c34f",
   "metadata": {},
   "outputs": [],
   "source": [
    "array.muons"
   ]
  },
  {
   "cell_type": "markdown",
   "id": "17a082e6-44ab-44db-a513-bc82aa2153f7",
   "metadata": {},
   "source": [
    "A cut is an array of booleans."
   ]
  },
  {
   "cell_type": "code",
   "execution_count": null,
   "id": "1de4c90a-963a-4780-8ab7-0fbaa5ed21e1",
   "metadata": {},
   "outputs": [],
   "source": [
    "cut = ak.num(array.muons) >= 2\n",
    "cut"
   ]
  },
  {
   "cell_type": "code",
   "execution_count": null,
   "id": "fae3a41b-ddd3-4275-bba0-3ada12f439d0",
   "metadata": {},
   "outputs": [],
   "source": [
    "array.muons[cut]"
   ]
  },
  {
   "cell_type": "markdown",
   "id": "7bcda0f9-cdce-43f5-9e94-6408e0553b2c",
   "metadata": {},
   "source": [
    "Notice that there are now fewer events than there had been before.\n",
    "\n",
    "Sometimes, that's a problem for composing cuts—having to know which cuts have been applied to which arrays of booleans.\n",
    "\n",
    "We can avoid that problem by masking: rejected events are replaced by \"`None`\", rather than removed."
   ]
  },
  {
   "cell_type": "code",
   "execution_count": null,
   "id": "897d9ba9-b99d-41b3-b483-d78cc86ca359",
   "metadata": {},
   "outputs": [],
   "source": [
    "array.muons.mask[cut]"
   ]
  },
  {
   "cell_type": "code",
   "execution_count": null,
   "id": "ab9900a8-fe4f-4ad7-80f5-80ab5845f748",
   "metadata": {},
   "outputs": [],
   "source": [
    "selected_muons = array.muons[cut]\n",
    "\n",
    "selected_muons.charge[:, 0] + selected_muons.charge[:, 1] == 0"
   ]
  },
  {
   "cell_type": "markdown",
   "id": "2689c73a-a078-48c1-99d5-e3423c81ad5c",
   "metadata": {},
   "source": [
    "The `[:, 0]`, `[:, 1]` syntax assumes that a first and second muon exists (it does, because of the selection) and ignores all others.\n",
    "\n",
    "In you want to consider combinations of all good particles in each event, so there are functions for constructing that.\n",
    "\n",
    "<table style=\"margin-left: 0px\">\n",
    "    <tr style=\"background: white\"><td style=\"font-size: 1.75em; font-weight: bold; text-align: center\"><a href=\"https://awkward-array.readthedocs.io/en/latest/_auto/ak.cartesian.html\">ak.cartesian</a></td><td style=\"font-size: 1.75em; font-weight: bold; text-align: center\"><a href=\"https://awkward-array.readthedocs.io/en/latest/_auto/ak.combinations.html\">ak.combinations</a></td></tr>\n",
    "    <tr style=\"background: white\"><td><img src=\"img/cartoon-cartesian.svg\"></td><td><img src=\"img/cartoon-combinations.svg\"></td></tr>\n",
    "</table>"
   ]
  },
  {
   "cell_type": "code",
   "execution_count": null,
   "id": "5a4fa1c7-03a5-46c2-89f4-e23d22049030",
   "metadata": {},
   "outputs": [],
   "source": [
    "ak.combinations(array.muons, 2).type"
   ]
  },
  {
   "cell_type": "code",
   "execution_count": null,
   "id": "47f2e1b8-c4df-43f3-99f4-cc29302d6908",
   "metadata": {},
   "outputs": [],
   "source": [
    "mu1, mu2 = ak.unzip(ak.combinations(array.muons, 2))\n",
    "mu1, mu2"
   ]
  },
  {
   "cell_type": "markdown",
   "id": "6e9742a2-b29f-4cca-801b-74480d18ce1a",
   "metadata": {},
   "source": [
    "These are not just the first two muons in each event: they are all combinations of two (without duplication)."
   ]
  },
  {
   "cell_type": "code",
   "execution_count": null,
   "id": "717459e9-bc1a-4e1e-9099-e0e8b42f3b65",
   "metadata": {},
   "outputs": [],
   "source": [
    "h = hist.Hist.new.Reg(120, 0, 120, name=\"mass\").Double()\n",
    "h.fill(ak.flatten(\n",
    "    np.sqrt(2*mu1.pt*mu2.pt*(np.cosh(mu1.eta - mu2.eta) - np.cos(mu1.phi - mu2.phi)))\n",
    "))"
   ]
  },
  {
   "cell_type": "markdown",
   "id": "e91f8ce6-0617-43b4-91a5-ba87cc014fc2",
   "metadata": {},
   "source": [
    "<br><br><br><br><br>\n",
    "\n",
    "## The Vector library\n",
    "\n",
    "Vector is a library for doing coordinate transformations and 2D, 3D, and 4D (Lorentz) calculations on _arrays_ of vectors.\n",
    "\n",
    "Awkward Array is one of its backends."
   ]
  },
  {
   "cell_type": "code",
   "execution_count": null,
   "id": "8db256d6-5c28-4eaf-8214-d4ece3f33aea",
   "metadata": {},
   "outputs": [],
   "source": [
    "import vector\n",
    "vector.register_awkward()"
   ]
  },
  {
   "cell_type": "markdown",
   "id": "8cc7cf3e-6374-4257-90ef-4fdf87987c6c",
   "metadata": {},
   "source": [
    "The above registers a suite of \"[behaviors](https://awkward-array.readthedocs.io/en/latest/ak.behavior.html)\" for Awkward Array, so that any records named `\"Momentum4D\"` now have Lorentz vector methods, as though they were members of a Lorentz vector class."
   ]
  },
  {
   "cell_type": "code",
   "execution_count": null,
   "id": "2cfd36ac-a40f-4eaa-97c7-3a48542a8538",
   "metadata": {},
   "outputs": [],
   "source": [
    "muons = ak.with_name(array.muons, \"Momentum4D\")\n",
    "muons"
   ]
  },
  {
   "cell_type": "code",
   "execution_count": null,
   "id": "b4320414-1c69-4495-86cf-5cf922aa8aad",
   "metadata": {},
   "outputs": [],
   "source": [
    "muons[1, 0], muons[1, 1]"
   ]
  },
  {
   "cell_type": "code",
   "execution_count": null,
   "id": "3d9c90f9-41b2-4b98-b43e-c2fa67a29b75",
   "metadata": {},
   "outputs": [],
   "source": [
    "muons[1, 0].cross(muons[1, 1])"
   ]
  },
  {
   "cell_type": "markdown",
   "id": "b4079c49-a863-4e4c-8733-50dec16bc725",
   "metadata": {},
   "source": [
    "But _arrays of vectors_ also have these methods, and they apply an array at a time."
   ]
  },
  {
   "cell_type": "code",
   "execution_count": null,
   "id": "ca8ae3e1-f16a-480d-97a7-5e7801611773",
   "metadata": {},
   "outputs": [],
   "source": [
    "mu1, mu2 = ak.unzip(ak.combinations(muons, 2))\n",
    "mu1, mu2"
   ]
  },
  {
   "cell_type": "code",
   "execution_count": null,
   "id": "415a05f5-fcbd-4946-b0df-37ca2b4b3845",
   "metadata": {},
   "outputs": [],
   "source": [
    "mu1.cross(mu2)"
   ]
  },
  {
   "cell_type": "code",
   "execution_count": null,
   "id": "26013028-1ba8-42e8-9a4d-602f8d5ce45c",
   "metadata": {},
   "outputs": [],
   "source": [
    "(mu1 + mu2).mass"
   ]
  },
  {
   "cell_type": "code",
   "execution_count": null,
   "id": "88c5ebf1-f777-4228-b2bf-3bd67275f069",
   "metadata": {},
   "outputs": [],
   "source": [
    "h = hist.Hist.new.Reg(120, 0, 120, name=\"mass\").Double()\n",
    "h.fill(ak.flatten((mu1 + mu2).mass))"
   ]
  },
  {
   "cell_type": "markdown",
   "id": "c0e4084e-faec-462d-97dc-a418779236c9",
   "metadata": {},
   "source": [
    "<br><br><br><br><br>\n",
    "\n",
    "## Example: reconstructed/generator-level matching with ΔR"
   ]
  },
  {
   "cell_type": "code",
   "execution_count": null,
   "id": "1bb1b131-8d47-4500-9167-351d3113ad47",
   "metadata": {},
   "outputs": [],
   "source": [
    "gen = ak.with_name(array.gen, \"Momentum3D\")\n",
    "gen"
   ]
  },
  {
   "cell_type": "code",
   "execution_count": null,
   "id": "7f68806f-faa2-4c84-b082-11e71a7b23db",
   "metadata": {},
   "outputs": [],
   "source": [
    "gen.fields"
   ]
  },
  {
   "cell_type": "markdown",
   "id": "eca32ff2-f794-49d7-a2bf-e5ab3cf9d57b",
   "metadata": {},
   "source": [
    "First, make all reco-gen pairs. (`nested=True` puts all pairs with a given reco muon in a new nested list.)"
   ]
  },
  {
   "cell_type": "code",
   "execution_count": null,
   "id": "8b06cd25-143f-4a11-a507-67ed8d47ef07",
   "metadata": {},
   "outputs": [],
   "source": [
    "reco_gen = ak.cartesian({\"muon\": muons, \"gen\": gen}, nested=True)\n",
    "reco_gen"
   ]
  },
  {
   "cell_type": "markdown",
   "id": "8cebe77b-2a19-42c3-b71d-36f06d720fd8",
   "metadata": {},
   "source": [
    "Break them into two arrays to make them easier to work with."
   ]
  },
  {
   "cell_type": "code",
   "execution_count": null,
   "id": "9977f21d-c979-4733-9394-63c54f7fcefe",
   "metadata": {},
   "outputs": [],
   "source": [
    "mu, g = ak.unzip(reco_gen)\n",
    "mu, g"
   ]
  },
  {
   "cell_type": "markdown",
   "id": "3182bce8-f2ef-4237-bee9-259844dc142d",
   "metadata": {},
   "source": [
    "Now we can compute an array of ΔR values."
   ]
  },
  {
   "cell_type": "code",
   "execution_count": null,
   "id": "f59738f5-6413-4ff4-8f51-b5cf8c17e7c0",
   "metadata": {},
   "outputs": [],
   "source": [
    "mu.deltaR(g)"
   ]
  },
  {
   "cell_type": "code",
   "execution_count": null,
   "id": "38be2a07-0bb8-42bc-8173-de0c91a8b699",
   "metadata": {},
   "outputs": [],
   "source": [
    "hist.Hist.new.Reg(100, 0, 5).Double().fill(\n",
    "    ak.flatten(mu.deltaR(g), axis=None)\n",
    ")"
   ]
  },
  {
   "cell_type": "markdown",
   "id": "4ffa52e4-86fb-47d9-a110-489f88c55978",
   "metadata": {},
   "source": [
    "Some are very close to zero, some not.\n",
    "\n",
    "How about if we look only at generator-level muons? Only non-muons?"
   ]
  },
  {
   "cell_type": "code",
   "execution_count": null,
   "id": "96b7ed87-1bfa-4846-a246-59c5c8e04b4e",
   "metadata": {},
   "outputs": [],
   "source": [
    "hist.Hist.new.Reg(100, 0, 5).Double().fill(\n",
    "    ak.flatten(mu.deltaR(g)[abs(g.pdgId) == 13], axis=None)\n",
    ")"
   ]
  },
  {
   "cell_type": "markdown",
   "id": "4e2ea69c-3df6-4684-9d6a-d64876024fb6",
   "metadata": {},
   "source": [
    "What we want is not ΔR for _all_ reco-gen pairs, but the minimum ΔR for each reco muon.\n",
    "\n",
    "[ak.min](https://awkward-array.readthedocs.io/en/latest/_auto/ak.min.html) is a reducer, removing that extra layer of nested list we made with `nested=True`."
   ]
  },
  {
   "cell_type": "code",
   "execution_count": null,
   "id": "c485aff7-212e-4241-b818-34114bdf1f65",
   "metadata": {},
   "outputs": [],
   "source": [
    "mu.deltaR(g)"
   ]
  },
  {
   "cell_type": "code",
   "execution_count": null,
   "id": "20b0abb4-b9b1-4710-ac92-163c164a6fcd",
   "metadata": {},
   "outputs": [],
   "source": [
    "ak.min(mu.deltaR(g), axis=-1)"
   ]
  },
  {
   "cell_type": "markdown",
   "id": "a4bfe237-0bb2-4cf2-86ed-160b05f8170b",
   "metadata": {},
   "source": [
    "Zoom into small ranges of ΔR."
   ]
  },
  {
   "cell_type": "code",
   "execution_count": null,
   "id": "f2a3b3b6-6f11-4164-9b95-78f513b70b83",
   "metadata": {},
   "outputs": [],
   "source": [
    "hist.Hist.new.Reg(100, 0, 5).Double().fill(\n",
    "    ak.flatten(ak.min(mu.deltaR(g), axis=-1), axis=None)\n",
    ")"
   ]
  },
  {
   "cell_type": "markdown",
   "id": "207d1d36-56e0-4164-bea1-9afad132bd4b",
   "metadata": {},
   "source": [
    "Instead of just plotting the minimum, let's get the [ak.argmin](https://awkward-array.readthedocs.io/en/latest/_auto/ak.argmin.html), the index position of the best ΔR.\n",
    "\n",
    "(`keepdims=True` keeps the reducer from removing a dimension, which we'll need for the slice in the next step. The best indexes are in length-1 lists.)"
   ]
  },
  {
   "cell_type": "code",
   "execution_count": null,
   "id": "7d472fd1-e69b-4b52-ac15-cb07deb615c1",
   "metadata": {},
   "outputs": [],
   "source": [
    "best = ak.argmin(mu.deltaR(g), axis=-1, keepdims=True)\n",
    "best"
   ]
  },
  {
   "cell_type": "markdown",
   "id": "24beb3a3-729c-49e1-a522-29c87365690b",
   "metadata": {},
   "source": [
    "This slice picks out the reco-gen pairs with minimal ΔR."
   ]
  },
  {
   "cell_type": "code",
   "execution_count": null,
   "id": "f644c1db-2e12-4228-a3f5-5729b8bdb2ca",
   "metadata": {},
   "outputs": [],
   "source": [
    "reco_gen[best]"
   ]
  },
  {
   "cell_type": "markdown",
   "id": "49ef062d-7aca-4ff9-a8b6-3aaf28cc3249",
   "metadata": {},
   "source": [
    "And there you have it: an array of `{muon: ABC, gen: XYZ}` pairs representing the best match for each reco muon."
   ]
  },
  {
   "cell_type": "code",
   "execution_count": null,
   "id": "caef1c5a-6f84-45cd-98e9-7a59f456eaf4",
   "metadata": {},
   "outputs": [],
   "source": [
    "ak.flatten(reco_gen[best], axis=-1)[:4].tolist()"
   ]
  },
  {
   "cell_type": "markdown",
   "id": "dd5601a5-a19c-4aaa-a7bc-71a6714d36ed",
   "metadata": {},
   "source": [
    "<br><br><br><br><br>\n",
    "\n",
    "## Numba: a just-in-time compiler for Python\n",
    "\n",
    "It's possible to do complex combinatorics with array-at-a-time functions, but nested \"for\" loops would often be easier.\n",
    "\n",
    "Nested \"for\" loops can be fast if they're compiled.\n",
    "\n",
    "[Numba](https://numba.pydata.org/) compiles Python."
   ]
  },
  {
   "cell_type": "code",
   "execution_count": null,
   "id": "3d32daa1-416a-421a-8a14-b6aa6a5e4225",
   "metadata": {},
   "outputs": [],
   "source": [
    "import numba as nb"
   ]
  },
  {
   "cell_type": "markdown",
   "id": "9725e5a6-c862-43f3-b986-45248e3844b7",
   "metadata": {},
   "source": [
    "Remember how long it takes to run a loop in Python?"
   ]
  },
  {
   "cell_type": "code",
   "execution_count": null,
   "id": "97e82859-8c1a-41f8-b3df-2bde39de6a0c",
   "metadata": {},
   "outputs": [],
   "source": [
    "starttime = time.time()\n",
    "\n",
    "sumpt = np.zeros(len(array), np.float64)\n",
    "for i, event in enumerate(array):\n",
    "    for muon in event.muons:\n",
    "        sumpt[i] += muon.pt\n",
    "\n",
    "python_time = time.time() - starttime\n",
    "print(f\"total time: {python_time} sec\")"
   ]
  },
  {
   "cell_type": "markdown",
   "id": "de091a4f-ce97-4fd4-9cf1-85ba298ab010",
   "metadata": {},
   "source": [
    "The same loop, in a function preceded by `@nb.jit`, is compiled by Numba when you first call it."
   ]
  },
  {
   "cell_type": "code",
   "execution_count": null,
   "id": "c31b3d78-ac2e-4ad3-89af-7e0b7154039d",
   "metadata": {},
   "outputs": [],
   "source": [
    "@nb.jit\n",
    "def calculate_sumpt(array):\n",
    "    out = np.zeros(len(array), np.float64)\n",
    "    for i, event in enumerate(array):\n",
    "        for muon in event.muons:\n",
    "            out[i] += muon.pt\n",
    "    return out"
   ]
  },
  {
   "cell_type": "code",
   "execution_count": null,
   "id": "7f881e35-6854-4156-ba34-828e420ac09d",
   "metadata": {},
   "outputs": [],
   "source": [
    "calculate_sumpt(array)"
   ]
  },
  {
   "cell_type": "code",
   "execution_count": null,
   "id": "3298e66a-766f-4f62-b1d3-66150bead7fc",
   "metadata": {},
   "outputs": [],
   "source": [
    "starttime = time.time()\n",
    "\n",
    "sumpt = calculate_sumpt(array)\n",
    "\n",
    "numba_time = time.time() - starttime\n",
    "print(f\"total time: {numba_time} sec\")"
   ]
  },
  {
   "cell_type": "code",
   "execution_count": null,
   "id": "55c1719a-115e-4ffb-92ce-1418846aa374",
   "metadata": {},
   "outputs": [],
   "source": [
    "python_time / numba_time"
   ]
  },
  {
   "cell_type": "markdown",
   "id": "4bcb8398-8b3e-4b8d-ad50-018bd58f7b26",
   "metadata": {},
   "source": [
    "In many cases, Numba is _faster_ than the corresponding array-at-a-time function."
   ]
  },
  {
   "cell_type": "code",
   "execution_count": null,
   "id": "320b94b1-612c-4eb3-8526-1abfb39160d3",
   "metadata": {},
   "outputs": [],
   "source": [
    "starttime = time.time()\n",
    "\n",
    "sumpt = ak.sum(array, axis=-1)\n",
    "\n",
    "awkward_time = time.time() - starttime\n",
    "print(f\"total time: {awkward_time} sec\")"
   ]
  },
  {
   "cell_type": "code",
   "execution_count": null,
   "id": "a5dd08ef-2ff9-494a-9c32-93e2af901225",
   "metadata": {},
   "outputs": [],
   "source": [
    "python_time / awkward_time"
   ]
  },
  {
   "cell_type": "markdown",
   "id": "4ada4b0b-4cc2-4c5a-98d7-2c4a53744f01",
   "metadata": {},
   "source": [
    "**Conclusion:** use array-at-a-time functions when you're working interactively or it's the most concise/easy-to-understand way to write an expression.\n",
    "\n",
    "Use Numba when you need extreme speed or \"for\" loops are the most concise/easy-to-understand way to write it.\n",
    "\n",
    "Convoluted code, just for the sake of using array-at-a-time functions, is not helping anybody!"
   ]
  },
  {
   "cell_type": "markdown",
   "id": "5e79a8fd-e33b-4aac-adc9-cd30c0089327",
   "metadata": {},
   "source": [
    "<br><br><br><br><br>\n",
    "\n",
    "## Limitations of Numba\n",
    "\n",
    "Maybe this sounds too good to be true: \"Python is slow, but put `@nb.jit` on each function and it will be fast.\"\n",
    "\n",
    "The truth is that Numba only works on a _subset_ of Python. It replaces Python code with statically typed, compiled code, and Python is too dynamic of a language for that to always be possible. The Numba team keeps a list of [supported Python language features](https://numba.pydata.org/numba-doc/dev/reference/pysupported.html) and [supported NumPy functions](https://numba.pydata.org/numba-doc/dev/reference/numpysupported.html). Numba also only recognizes libraries that have been explicitly extended to work with it. Awkward Array and Vector have been extended; hist will be.\n",
    "\n",
    "When it fails, the error messages can be hard to understand. Hint: start with a small, do-nothing function and gradually fold in the features you want, to better know which part is causing the error. See also [my tutorial on Numba](https://youtu.be/X_BJrmofRWQ).\n",
    "\n",
    "If you're willing to learn a new language, [Julia](https://julialang.org/) is designed from the ground up as a just-in-time compilable language. See the session on Friday.\n",
    "\n",
    "<img src=\"img/indico-julia.png\" width=\"800px\"/>"
   ]
  },
  {
   "cell_type": "markdown",
   "id": "8d2f6699-cfde-44a2-be8d-09443e5dbd67",
   "metadata": {},
   "source": [
    "<br><br><br><br><br>\n",
    "\n",
    "## Reconstructed/generator-level matching in Numba\n",
    "\n",
    "Before we repeat the reco-gen matching exercise in Numba, let's build a simple Awkward Array output from a Numba-compiled function using [ak.ArrayBuilder](https://awkward-array.readthedocs.io/en/latest/_auto/ak.ArrayBuilder.html)."
   ]
  },
  {
   "cell_type": "code",
   "execution_count": null,
   "id": "c1bcb528-adf2-4e39-8b8c-2d48ad4958e5",
   "metadata": {},
   "outputs": [],
   "source": [
    "@nb.jit\n",
    "def build_nested(array, builder):\n",
    "    for event in array:\n",
    "        builder.begin_list()\n",
    "        \n",
    "        for muon in event.muons:\n",
    "            builder.append(muon.pt)\n",
    "        \n",
    "        builder.end_list()\n",
    "    \n",
    "    return builder\n",
    "\n",
    "build_nested(array, ak.ArrayBuilder()).snapshot()"
   ]
  },
  {
   "cell_type": "markdown",
   "id": "e1d08f3f-b41b-4316-acba-436ed255f023",
   "metadata": {},
   "source": [
    "It's the same as `array.muons.pt`, so this is definitely an example where the array-at-a-time function is simpler."
   ]
  },
  {
   "cell_type": "code",
   "execution_count": null,
   "id": "461934cb-d86d-4c2f-ae78-6b70c4e2999b",
   "metadata": {},
   "outputs": [],
   "source": [
    "array.muons.pt"
   ]
  },
  {
   "cell_type": "markdown",
   "id": "0c9396e5-31f3-4cc7-b05d-ba797b0b9f25",
   "metadata": {},
   "source": [
    "Reco-gen matching, however, is simpler as a nested \"for\" loop.\n",
    "\n",
    "Note that we don't have to output the fully formed array; it is enough to use Numba to make the index that we slice arrays with outside of the Numba-compiled function."
   ]
  },
  {
   "cell_type": "code",
   "execution_count": null,
   "id": "939db3f2-105a-4c9f-b915-d4360189879f",
   "metadata": {},
   "outputs": [],
   "source": [
    "@nb.jit\n",
    "def matching(array_muons, array_gen, builder):\n",
    "    for muons_event, gen_event in zip(array_muons, array_gen):\n",
    "        builder.begin_list()\n",
    "\n",
    "        for muon in muons_event:\n",
    "            best_i = -1\n",
    "            best_dr = -1.0\n",
    "            for i, gen in enumerate(gen_event):\n",
    "                dr = muon.deltaR(gen)\n",
    "                if best_i < 0 or dr < best_dr:\n",
    "                    best_i = i\n",
    "                    best_dr = dr\n",
    "\n",
    "            if best_i < 0:\n",
    "                builder.append(None)\n",
    "            else:\n",
    "                builder.append(best_i)\n",
    "\n",
    "        builder.end_list()\n",
    "\n",
    "    return builder\n",
    "\n",
    "index_of_best = matching(muons, gen, ak.ArrayBuilder()).snapshot()\n",
    "index_of_best"
   ]
  },
  {
   "cell_type": "markdown",
   "id": "cb480f69-9495-40c4-90cc-6d33b288a9dd",
   "metadata": {},
   "source": [
    "This index picks the best generator-level particle for each reconstructed muon."
   ]
  },
  {
   "cell_type": "code",
   "execution_count": null,
   "id": "99772fba-3fa2-4029-acc5-869326199f6f",
   "metadata": {},
   "outputs": [],
   "source": [
    "gen_match = gen[index_of_best]\n",
    "gen_match"
   ]
  },
  {
   "cell_type": "code",
   "execution_count": null,
   "id": "770db62e-0b0c-44ed-affa-46d40fabeebd",
   "metadata": {},
   "outputs": [],
   "source": [
    "ak.num(gen), ak.num(muons), ak.num(gen_match)"
   ]
  },
  {
   "cell_type": "markdown",
   "id": "52540f41-0c5a-4da0-be0c-2616c86bf179",
   "metadata": {},
   "source": [
    "So building the reco-gen pairs is just an [ak.zip](https://awkward-array.readthedocs.io/en/latest/_auto/ak.zip.html).\n",
    "\n",
    "_This_ part would be harder in Numba. Use the best tool for each job."
   ]
  },
  {
   "cell_type": "code",
   "execution_count": null,
   "id": "5728452e-9555-4f9a-9bc7-43715c5ba47a",
   "metadata": {},
   "outputs": [],
   "source": [
    "ak.zip({\"muons\": muons, \"gen\": gen_match})"
   ]
  },
  {
   "cell_type": "markdown",
   "id": "2f808df6-c72d-465f-95e3-318cb6e21033",
   "metadata": {},
   "source": [
    "<br><br><br><br><br>\n",
    "\n",
    "## Example: identifying Z bosons in H → ZZ → 4μ\n",
    "\n",
    "The Higgs boson decays to an \"on-shell\" Z boson (with a mass near 91 GeV) and an \"off-shell\" Z boson (much lower mass).\n",
    "\n",
    "In a real analysis, it is necessary to know which is which, because different quality cuts are applied. Given only the four muons, finding the right pair of pairs is a combinatorics problem.\n",
    "\n",
    "This example solves that problem using only array-at-a-time functions."
   ]
  },
  {
   "cell_type": "code",
   "execution_count": null,
   "id": "86475e92-a4af-4de1-946a-453810b9e7f1",
   "metadata": {},
   "outputs": [],
   "source": [
    "four_muons = muons[(ak.num(muons) == 4) & (ak.sum(muons.charge, axis=-1) == 0)]\n",
    "four_muons"
   ]
  },
  {
   "cell_type": "markdown",
   "id": "2aa03072-67de-4a9b-8046-d62b098c5fd9",
   "metadata": {},
   "source": [
    "General strategy: identify qualitatively distinct collections as separate named arrays.\n",
    "\n",
    "The names will help you in thinking about the problem."
   ]
  },
  {
   "cell_type": "code",
   "execution_count": null,
   "id": "17ad82aa-b12a-4fdd-b77a-cc5f761b3f81",
   "metadata": {},
   "outputs": [],
   "source": [
    "mu_plus = four_muons[four_muons.charge > 0]\n",
    "mu_minus = four_muons[four_muons.charge < 0]\n",
    "mu_plus, mu_minus"
   ]
  },
  {
   "cell_type": "markdown",
   "id": "943ef36b-8f16-49b3-b5ad-43e7e5b2694a",
   "metadata": {},
   "source": [
    "By construction (the cut defining `four_muons`), all lists in `mu_plus` and `mu_minus` have exactly two items each."
   ]
  },
  {
   "cell_type": "code",
   "execution_count": null,
   "id": "270dc924-b436-4e69-84e3-d14181dd5198",
   "metadata": {},
   "outputs": [],
   "source": [
    "ak.num(mu_plus), ak.num(mu_minus)"
   ]
  },
  {
   "cell_type": "markdown",
   "id": "cca3cc8a-c707-459c-8054-0772309771ad",
   "metadata": {},
   "source": [
    "You can check that explicitly to increase confidence and (if necessary) debug."
   ]
  },
  {
   "cell_type": "code",
   "execution_count": null,
   "id": "e1faa026-eb05-4c1f-9342-dc9861b9a7c0",
   "metadata": {},
   "outputs": [],
   "source": [
    "ak.all(ak.num(mu_plus) == 2), ak.all(ak.num(mu_minus) == 2)"
   ]
  },
  {
   "cell_type": "markdown",
   "id": "ea20ef80-40d1-4961-95fc-86f0602ac4d7",
   "metadata": {},
   "source": [
    "Knowing this (and the fact that 2 is not a large number), we can name each of these to further simplify our structures."
   ]
  },
  {
   "cell_type": "code",
   "execution_count": null,
   "id": "cc48c9f6-92a9-4265-8625-bce1a5f87b66",
   "metadata": {},
   "outputs": [],
   "source": [
    "mu_plus_0 = mu_plus[:, 0]\n",
    "mu_plus_1 = mu_plus[:, 1]\n",
    "mu_minus_0 = mu_minus[:, 0]\n",
    "mu_minus_1 = mu_minus[:, 1]\n",
    "\n",
    "mu_plus_0, mu_plus_1, mu_minus_0, mu_minus_1"
   ]
  },
  {
   "cell_type": "markdown",
   "id": "17184808-6117-41e2-a9de-42d94a43a47a",
   "metadata": {},
   "source": [
    "Now, we _could_ do combinatorics using [ak.combinations](https://awkward-array.readthedocs.io/en/latest/_auto/ak.combinations.html), but with such a small number of known combinations, do it with explicitly named arrays. The structures will be simpler and the names will help you.\n",
    "\n",
    "For each event, either `z00` and `z11` will be valid or `z01` and `z10` will be valid. The names help you remember this constraint to avoid using the same particle in multiple decays."
   ]
  },
  {
   "cell_type": "code",
   "execution_count": null,
   "id": "f475b411-9799-452c-bedf-26bc5da7ad67",
   "metadata": {},
   "outputs": [],
   "source": [
    "z00 = mu_plus_0 + mu_minus_0\n",
    "z11 = mu_plus_1 + mu_minus_1\n",
    "\n",
    "z01 = mu_plus_0 + mu_minus_1\n",
    "z10 = mu_plus_1 + mu_minus_0"
   ]
  },
  {
   "cell_type": "markdown",
   "id": "f07eb93d-ea24-4ff0-a9c3-f1c53998ca40",
   "metadata": {},
   "source": [
    "As an aside, instead of hard-coding the Z mass, get it from the [particle](https://github.com/scikit-hep/particle#readme) package, which is like a Pythonic PDG."
   ]
  },
  {
   "cell_type": "code",
   "execution_count": null,
   "id": "80eb37cd-3b2e-4ce4-8722-c6bb23e92fa9",
   "metadata": {},
   "outputs": [],
   "source": [
    "import particle"
   ]
  },
  {
   "cell_type": "code",
   "execution_count": null,
   "id": "24960429-8269-4c7e-a555-86dcfc737271",
   "metadata": {},
   "outputs": [],
   "source": [
    "particle.Particle.from_name(\"Z0\")"
   ]
  },
  {
   "cell_type": "code",
   "execution_count": null,
   "id": "806012f6-a219-4981-8b69-375ac80f88d2",
   "metadata": {},
   "outputs": [],
   "source": [
    "particle.Particle.from_name(\"Z0\").mass"
   ]
  },
  {
   "cell_type": "code",
   "execution_count": null,
   "id": "be0dd083-729c-4a28-9b25-047300c7899e",
   "metadata": {},
   "outputs": [],
   "source": [
    "zGeV = particle.Particle.from_name(\"Z0\").mass / 1000"
   ]
  },
  {
   "cell_type": "markdown",
   "id": "3bdd9f15-cf6f-4116-9650-a23d089e129e",
   "metadata": {},
   "source": [
    "Another aside, [np.minimum](https://numpy.org/doc/stable/reference/generated/numpy.minimum.html) is an array-at-a-time function to find element-by-element minima between two arrays."
   ]
  },
  {
   "cell_type": "code",
   "execution_count": null,
   "id": "94ecb901-3826-4bf2-b668-7e53cfc0a104",
   "metadata": {},
   "outputs": [],
   "source": [
    "np.minimum(np.array([1, 2, 3, 4, 5]), np.array([5, 4, 3, 2, 1]))"
   ]
  },
  {
   "cell_type": "markdown",
   "id": "78f06241-41c8-4b27-8cb5-688605044a4a",
   "metadata": {},
   "source": [
    "We can use that to find the closest-to-on-shell Z in each of the two scenarios: 0011 (`z00` and `z11`) or 0110 (`z01` and `z10`)."
   ]
  },
  {
   "cell_type": "code",
   "execution_count": null,
   "id": "8a22b15d-bae2-427c-9318-124206cfef00",
   "metadata": {},
   "outputs": [],
   "source": [
    "zdist_0011 = np.minimum(abs(z00.mass - zGeV), abs(z11.mass - zGeV))\n",
    "zdist_0110 = np.minimum(abs(z01.mass - zGeV), abs(z10.mass - zGeV))\n",
    "zdist_0011, zdist_0110"
   ]
  },
  {
   "cell_type": "markdown",
   "id": "f4a37d28-3e05-41e0-a837-b3aa3aab338b",
   "metadata": {},
   "source": [
    "For each event `i`, either `zdist_0011[i]` is nearly zero because it contains a real on-shell Z and a real off-shell Z or `zdist_0110[i]` is.\n",
    "\n",
    "For each `i`, the wrong case has two crossed muon pairs, not correctly identified Zs, which are both far from 91 GeV."
   ]
  },
  {
   "cell_type": "code",
   "execution_count": null,
   "id": "09d64155-4cc5-49ff-b7e3-ff8669defcd4",
   "metadata": {},
   "outputs": [],
   "source": [
    "is_0011 = zdist_0011 < zdist_0110\n",
    "is_0011"
   ]
  },
  {
   "cell_type": "markdown",
   "id": "847fd516-d597-431a-9e53-8b1e5f544980",
   "metadata": {},
   "source": [
    "With an array of booleans, we can pick the right pairing element-by-element using [ak.where](https://awkward-array.readthedocs.io/en/latest/_auto/ak.where.html).\n",
    "\n",
    "Try negating the booleans with `~`."
   ]
  },
  {
   "cell_type": "code",
   "execution_count": null,
   "id": "557d5b23-41ce-48c7-b556-4886940a310b",
   "metadata": {},
   "outputs": [],
   "source": [
    "hist.Hist.new.Reg(100, 0, 100, name=\"distance from 91 GeV\").Double().fill(\n",
    "    ak.where(is_0011, zdist_0011, zdist_0110)\n",
    ")"
   ]
  },
  {
   "cell_type": "markdown",
   "id": "1b59a047-ba86-4ee6-847d-b502473cc272",
   "metadata": {},
   "source": [
    "Now we'd like to select _objects_ with `is_0011`, rather than numbers, so we first have to build the right objects.\n",
    "\n",
    "Each element needs to be two Z bosons, an array of length-2 lists of Lorentz vectors.\n",
    "\n",
    "We can construct this individually for the array of 0011 cases and the array of 0110 cases.\n",
    "\n",
    "`np.newaxis` unflattens an array by putting each element in a length-1 nested list. (See the [slicing documentation](https://awkward-array.readthedocs.io/en/latest/_auto/ak.Array.html#ak-array-getitem).)"
   ]
  },
  {
   "cell_type": "code",
   "execution_count": null,
   "id": "c0d87365-65b0-494c-bd63-04ef1d07c2a6",
   "metadata": {},
   "outputs": [],
   "source": [
    "z00.type"
   ]
  },
  {
   "cell_type": "code",
   "execution_count": null,
   "id": "14edb277-79c8-4705-a65f-c0ba3ad5c836",
   "metadata": {},
   "outputs": [],
   "source": [
    "z00[:, np.newaxis].type"
   ]
  },
  {
   "cell_type": "markdown",
   "id": "5aa2245f-e837-467d-8360-a60633affc20",
   "metadata": {},
   "source": [
    "And we can [ak.concatenate](https://awkward-array.readthedocs.io/en/latest/_auto/ak.concatenate.html) two such things at `axis=1` to get length-2 lists."
   ]
  },
  {
   "cell_type": "code",
   "execution_count": null,
   "id": "518b06fb-a6a0-4b23-a7bf-efac255a9cea",
   "metadata": {},
   "outputs": [],
   "source": [
    "z0011_pair = ak.concatenate((z00[:, np.newaxis], z11[:, np.newaxis]), axis=1)\n",
    "z0110_pair = ak.concatenate((z01[:, np.newaxis], z10[:, np.newaxis]), axis=1)\n",
    "z0011_pair, z0110_pair"
   ]
  },
  {
   "cell_type": "code",
   "execution_count": null,
   "id": "a66cb985-d5bf-49ad-ac64-3fe89610ed75",
   "metadata": {},
   "outputs": [],
   "source": [
    "ak.num(z0011_pair), ak.num(z0110_pair)"
   ]
  },
  {
   "cell_type": "markdown",
   "id": "9695f9b3-519a-4459-9f27-c95abf0ba68b",
   "metadata": {},
   "source": [
    "Now apply [ak.where](https://awkward-array.readthedocs.io/en/latest/_auto/ak.where.html) list by list to pick the right pair of Zs for each event."
   ]
  },
  {
   "cell_type": "code",
   "execution_count": null,
   "id": "6bf808c4-4991-43c2-9661-bcfb13b93576",
   "metadata": {},
   "outputs": [],
   "source": [
    "correct_pair = ak.where(is_0011, z0011_pair, z0110_pair)\n",
    "correct_pair"
   ]
  },
  {
   "cell_type": "code",
   "execution_count": null,
   "id": "83447231-d050-47c4-8cbf-584d2db61c91",
   "metadata": {},
   "outputs": [],
   "source": [
    "ak.num(correct_pair)"
   ]
  },
  {
   "cell_type": "code",
   "execution_count": null,
   "id": "7b686cb3-8bdf-4897-b2e2-1f4f9c2c2e09",
   "metadata": {},
   "outputs": [],
   "source": [
    "hist.Hist.new.Reg(120, 0, 120, name=\"mass\").Double().fill(\n",
    "    correct_pair[:, 0].mass\n",
    ")"
   ]
  },
  {
   "cell_type": "markdown",
   "id": "a29482a3-3a05-4093-b4d8-38a5b9e2e3ec",
   "metadata": {},
   "source": [
    "For completeness, look at the wrong pairs:"
   ]
  },
  {
   "cell_type": "code",
   "execution_count": null,
   "id": "835590ee-2cf1-44a4-9b86-1fb9fd5d9190",
   "metadata": {},
   "outputs": [],
   "source": [
    "hist.Hist.new.Reg(120, 0, 120, name=\"mass\").Double().fill(\n",
    "    ak.where(~is_0011, z0011_pair, z0110_pair)[:, 0].mass\n",
    ")"
   ]
  },
  {
   "cell_type": "markdown",
   "id": "d1f643ca-f6c1-40e3-90b2-e4109a4f87f9",
   "metadata": {},
   "source": [
    "Each of these length-2 lists has a correctly reconstructed on-shell Z and a correctly reconstructed off-shell Z, but in no particular order.\n",
    "\n",
    "We can sort them by their distance to 91 GeV."
   ]
  },
  {
   "cell_type": "code",
   "execution_count": null,
   "id": "6cac4c44-a0ff-41e4-be1c-f06487a2f413",
   "metadata": {},
   "outputs": [],
   "source": [
    "sort_index = ak.argsort(abs(correct_pair.mass - zGeV), axis=1)\n",
    "sort_index"
   ]
  },
  {
   "cell_type": "code",
   "execution_count": null,
   "id": "203f65a1-a6ea-4b45-be91-e5e3270109d7",
   "metadata": {},
   "outputs": [],
   "source": [
    "sorted_pair = correct_pair[sort_index]\n",
    "sorted_pair"
   ]
  },
  {
   "cell_type": "code",
   "execution_count": null,
   "id": "97e82e43-2d83-4f6a-a04a-2dc4d4b7b203",
   "metadata": {},
   "outputs": [],
   "source": [
    "hist.Hist.new.Reg(120, 0, 120, name=\"mass\").Double().fill(\n",
    "    sorted_pair[:, 0].mass\n",
    ")"
   ]
  },
  {
   "cell_type": "markdown",
   "id": "580dfa4e-6200-41e4-95b5-fa5540204f89",
   "metadata": {},
   "source": [
    "Adding the Lorentz vectors of both Zs gives us the Higgs mass (though we didn't have to correctly identify them to do this):"
   ]
  },
  {
   "cell_type": "code",
   "execution_count": null,
   "id": "82a5bb9e-642e-4baa-9a75-9629bd272838",
   "metadata": {},
   "outputs": [],
   "source": [
    "hist.Hist.new.Reg(150, 0, 150, name=\"mass\").Double().fill(\n",
    "    (sorted_pair[:, 0] + sorted_pair[:, 1]).mass\n",
    ")"
   ]
  },
  {
   "cell_type": "markdown",
   "id": "757c13ee-5d6c-4b60-84b1-f029ab938c06",
   "metadata": {},
   "source": [
    "<br><br><br><br><br>\n",
    "\n",
    "## Identifying Z bosons in H → ZZ → 4μ with Numba\n",
    "\n",
    "Now let's do the same thing with Numba, starting with the hard part: pairing muons into right and wrong combinations and using proximity to 91 GeV of _one_ member of each pair of Z candidates to identify the right combination."
   ]
  },
  {
   "cell_type": "code",
   "execution_count": null,
   "id": "0cb5fb95-3cf5-47ee-91c3-bda252f4f158",
   "metadata": {},
   "outputs": [],
   "source": [
    "four_muons"
   ]
  },
  {
   "cell_type": "code",
   "execution_count": null,
   "id": "5a32976c-6c42-41db-b4bb-6c0649cecca5",
   "metadata": {},
   "outputs": [],
   "source": [
    "ak.num(four_muons)"
   ]
  },
  {
   "cell_type": "code",
   "execution_count": null,
   "id": "5b851ff2-3566-488c-96d4-3e105179d36d",
   "metadata": {},
   "outputs": [],
   "source": [
    "ak.sum(four_muons.charge, axis=-1)"
   ]
  },
  {
   "cell_type": "markdown",
   "id": "ff5e69ce-0d29-4b2e-899c-ef980705f70e",
   "metadata": {},
   "source": [
    "Pre-sorting the muons with an array-at-a-time function makes it easier to write the Numba-compiled function."
   ]
  },
  {
   "cell_type": "code",
   "execution_count": null,
   "id": "7f0da435-2075-4cb6-8612-8758866a6544",
   "metadata": {},
   "outputs": [],
   "source": [
    "sorted_four_muons = four_muons[ak.argsort(four_muons.charge, axis=1)]\n",
    "sorted_four_muons.charge"
   ]
  },
  {
   "cell_type": "markdown",
   "id": "0dc3788b-83e9-4351-95a7-b189bd6633ec",
   "metadata": {},
   "source": [
    "The logic for picking the right pair is similar to the array-at-a-time case, but instead of \"`z00[i]`\" being a single Z candidate with `z00` being an array over all events, `z00` is a single Z candidate in a for loop over events.\n",
    "\n",
    "In this example, we use the [ak.ArrayBuilder](https://awkward-array.readthedocs.io/en/latest/_auto/ak.ArrayBuilder.html) to make the output vector records directly. Just be sure to name them `\"Momentum4D\"`, so that they are recognized as vectors and not generic records.\n",
    "\n",
    "(TODO: it would be nice if ArrayBuilder's `append` would take Lorentz vector objects without having to rebuild them...)"
   ]
  },
  {
   "cell_type": "code",
   "execution_count": null,
   "id": "4d83199b-36a8-4c6b-b291-31695b475e57",
   "metadata": {},
   "outputs": [],
   "source": [
    "@nb.jit\n",
    "def make_z_pairs(sorted_four_muons, builder):\n",
    "    for event in sorted_four_muons:\n",
    "        # unpack the sorted four muons into appropriately named variables\n",
    "        mum0, mum1, mup0, mup1 = event\n",
    "\n",
    "        # either z00 and z11 are correct or z01 and z10 are correct\n",
    "        z00 = mup0 + mum0\n",
    "        z11 = mup1 + mum1\n",
    "        \n",
    "        z01 = mup0 + mum1\n",
    "        z10 = mup1 + mum0\n",
    "        \n",
    "        # the correct pair of Zs is the pair that has one Z close to 91 GeV\n",
    "        zdist_0011 = min(abs(z00.mass - zGeV), abs(z11.mass - zGeV))\n",
    "        zdist_0110 = min(abs(z01.mass - zGeV), abs(z10.mass - zGeV))\n",
    "\n",
    "        if zdist_0011 < zdist_0110:\n",
    "            # z00 and z11 are correct\n",
    "            builder.begin_list()\n",
    "            builder.begin_record(\"Momentum4D\")\n",
    "            builder.field(\"px\"); builder.append(z00.px)\n",
    "            builder.field(\"py\"); builder.append(z00.py)\n",
    "            builder.field(\"pz\"); builder.append(z00.pz)\n",
    "            builder.field(\"E\"); builder.append(z00.E)\n",
    "            builder.end_record()\n",
    "            builder.begin_record(\"Momentum4D\")\n",
    "            builder.field(\"px\"); builder.append(z11.px)\n",
    "            builder.field(\"py\"); builder.append(z11.py)\n",
    "            builder.field(\"pz\"); builder.append(z11.pz)\n",
    "            builder.field(\"E\"); builder.append(z11.E)\n",
    "            builder.end_record()\n",
    "            builder.end_list()\n",
    "\n",
    "        else:\n",
    "            # z01 and z10 are correct\n",
    "            builder.begin_list()\n",
    "            builder.begin_record(\"Momentum4D\")\n",
    "            builder.field(\"px\"); builder.append(z01.px)\n",
    "            builder.field(\"py\"); builder.append(z01.py)\n",
    "            builder.field(\"pz\"); builder.append(z01.pz)\n",
    "            builder.field(\"E\"); builder.append(z01.E)\n",
    "            builder.end_record()\n",
    "            builder.begin_record(\"Momentum4D\")\n",
    "            builder.field(\"px\"); builder.append(z10.px)\n",
    "            builder.field(\"py\"); builder.append(z10.py)\n",
    "            builder.field(\"pz\"); builder.append(z10.pz)\n",
    "            builder.field(\"E\"); builder.append(z10.E)\n",
    "            builder.end_record()\n",
    "            builder.end_list()\n",
    "\n",
    "    return builder\n",
    "\n",
    "correct_pair = make_z_pairs(sorted_four_muons, ak.ArrayBuilder()).snapshot()\n",
    "correct_pair"
   ]
  },
  {
   "cell_type": "code",
   "execution_count": null,
   "id": "617047f1-cc7c-4057-8a12-7890d6aabb1a",
   "metadata": {},
   "outputs": [],
   "source": [
    "hist.Hist.new.Reg(120, 0, 120, name=\"mass\").Double().fill(\n",
    "    correct_pair[:, 0].mass\n",
    ")"
   ]
  },
  {
   "cell_type": "markdown",
   "id": "861230a6-aa26-46d3-985a-00fcc6085917",
   "metadata": {},
   "source": [
    "Try inverting the selection to make the `correct_pair` contain the incorrect pair!"
   ]
  },
  {
   "cell_type": "code",
   "execution_count": null,
   "id": "33745e86-bfb7-4e9d-baa9-2bfd194ce881",
   "metadata": {},
   "outputs": [],
   "source": [
    "hist.Hist.new.Reg(150, 0, 150, name=\"mass\").Double().fill(\n",
    "    (correct_pair[:, 0] + correct_pair[:, 1]).mass\n",
    ")"
   ]
  }
 ],
 "metadata": {
  "kernelspec": {
   "display_name": "Python 3",
   "language": "python",
   "name": "python3"
  },
  "language_info": {
   "codemirror_mode": {
    "name": "ipython",
    "version": 3
   },
   "file_extension": ".py",
   "mimetype": "text/x-python",
   "name": "python",
   "nbconvert_exporter": "python",
   "pygments_lexer": "ipython3",
   "version": "3.8.10"
  }
 },
 "nbformat": 4,
 "nbformat_minor": 5
}
